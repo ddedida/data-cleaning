{
 "cells": [
  {
   "cell_type": "code",
   "execution_count": 182,
   "id": "0a3020af",
   "metadata": {},
   "outputs": [],
   "source": [
    "import pandas as pd\n",
    "import numpy as np\n",
    "from datetime import datetime"
   ]
  },
  {
   "cell_type": "code",
   "execution_count": 183,
   "id": "f39db1cf",
   "metadata": {},
   "outputs": [],
   "source": [
    "timeline = datetime.now().strftime(\"%Y%m%d%H%M%S\")"
   ]
  },
  {
   "cell_type": "markdown",
   "id": "88550c8c",
   "metadata": {},
   "source": [
    "# Extract"
   ]
  },
  {
   "cell_type": "code",
   "execution_count": 184,
   "id": "190de1d1",
   "metadata": {},
   "outputs": [
    {
     "name": "stdout",
     "output_type": "stream",
     "text": [
      "<class 'pandas.core.frame.DataFrame'>\n",
      "RangeIndex: 1000 entries, 0 to 999\n",
      "Data columns (total 12 columns):\n",
      " #   Column               Non-Null Count  Dtype  \n",
      "---  ------               --------------  -----  \n",
      " 0   freelancer_ID        1000 non-null   object \n",
      " 1   name                 1000 non-null   object \n",
      " 2   gender               1000 non-null   object \n",
      " 3   age                  970 non-null    float64\n",
      " 4   country              1000 non-null   object \n",
      " 5   language             1000 non-null   object \n",
      " 6   primary_skill        1000 non-null   object \n",
      " 7   years_of_experience  949 non-null    float64\n",
      " 8   hourly_rate (USD)    906 non-null    object \n",
      " 9   rating               899 non-null    float64\n",
      " 10  is_active            911 non-null    object \n",
      " 11  client_satisfaction  824 non-null    object \n",
      "dtypes: float64(3), object(9)\n",
      "memory usage: 93.9+ KB\n"
     ]
    }
   ],
   "source": [
    "df = pd.read_csv('data/global_freelancers_raw.csv')\n",
    "df.info()"
   ]
  },
  {
   "cell_type": "markdown",
   "id": "a866e7e0",
   "metadata": {},
   "source": [
    "# Transform"
   ]
  },
  {
   "cell_type": "code",
   "execution_count": 185,
   "id": "5c39ca7d",
   "metadata": {},
   "outputs": [
    {
     "data": {
      "text/html": [
       "<div>\n",
       "<style scoped>\n",
       "    .dataframe tbody tr th:only-of-type {\n",
       "        vertical-align: middle;\n",
       "    }\n",
       "\n",
       "    .dataframe tbody tr th {\n",
       "        vertical-align: top;\n",
       "    }\n",
       "\n",
       "    .dataframe thead th {\n",
       "        text-align: right;\n",
       "    }\n",
       "</style>\n",
       "<table border=\"1\" class=\"dataframe\">\n",
       "  <thead>\n",
       "    <tr style=\"text-align: right;\">\n",
       "      <th></th>\n",
       "      <th>freelancer_id</th>\n",
       "      <th>name</th>\n",
       "      <th>gender</th>\n",
       "      <th>age</th>\n",
       "      <th>country</th>\n",
       "      <th>language</th>\n",
       "      <th>primary_skill</th>\n",
       "      <th>years_of_experience</th>\n",
       "      <th>hourly_rate_usd</th>\n",
       "      <th>rating</th>\n",
       "      <th>is_active</th>\n",
       "      <th>client_satisfaction</th>\n",
       "    </tr>\n",
       "  </thead>\n",
       "  <tbody>\n",
       "    <tr>\n",
       "      <th>0</th>\n",
       "      <td>FL250001</td>\n",
       "      <td>Ms. Nicole Kidd</td>\n",
       "      <td>f</td>\n",
       "      <td>52.0</td>\n",
       "      <td>Italy</td>\n",
       "      <td>Italian</td>\n",
       "      <td>Blockchain Development</td>\n",
       "      <td>11.0</td>\n",
       "      <td>100</td>\n",
       "      <td>NaN</td>\n",
       "      <td>0</td>\n",
       "      <td>NaN</td>\n",
       "    </tr>\n",
       "    <tr>\n",
       "      <th>1</th>\n",
       "      <td>FL250002</td>\n",
       "      <td>Vanessa Garcia</td>\n",
       "      <td>FEMALE</td>\n",
       "      <td>52.0</td>\n",
       "      <td>Australia</td>\n",
       "      <td>English</td>\n",
       "      <td>Mobile Apps</td>\n",
       "      <td>34.0</td>\n",
       "      <td>USD 100</td>\n",
       "      <td>3.3</td>\n",
       "      <td>1</td>\n",
       "      <td>84%</td>\n",
       "    </tr>\n",
       "    <tr>\n",
       "      <th>2</th>\n",
       "      <td>FL250003</td>\n",
       "      <td>Juan Nelson</td>\n",
       "      <td>male</td>\n",
       "      <td>53.0</td>\n",
       "      <td>Germany</td>\n",
       "      <td>German</td>\n",
       "      <td>Graphic Design</td>\n",
       "      <td>31.0</td>\n",
       "      <td>50</td>\n",
       "      <td>0.0</td>\n",
       "      <td>N</td>\n",
       "      <td>71%</td>\n",
       "    </tr>\n",
       "    <tr>\n",
       "      <th>3</th>\n",
       "      <td>FL250004</td>\n",
       "      <td>Amanda Spencer</td>\n",
       "      <td>F</td>\n",
       "      <td>38.0</td>\n",
       "      <td>Australia</td>\n",
       "      <td>English</td>\n",
       "      <td>Web Development</td>\n",
       "      <td>4.0</td>\n",
       "      <td>$40</td>\n",
       "      <td>1.5</td>\n",
       "      <td>N</td>\n",
       "      <td>90%</td>\n",
       "    </tr>\n",
       "    <tr>\n",
       "      <th>4</th>\n",
       "      <td>FL250005</td>\n",
       "      <td>Lynn Curtis DDS</td>\n",
       "      <td>female</td>\n",
       "      <td>53.0</td>\n",
       "      <td>Germany</td>\n",
       "      <td>German</td>\n",
       "      <td>Web Development</td>\n",
       "      <td>27.0</td>\n",
       "      <td>30</td>\n",
       "      <td>4.8</td>\n",
       "      <td>0</td>\n",
       "      <td>83%</td>\n",
       "    </tr>\n",
       "  </tbody>\n",
       "</table>\n",
       "</div>"
      ],
      "text/plain": [
       "  freelancer_id             name  gender   age    country language  \\\n",
       "0      FL250001  Ms. Nicole Kidd       f  52.0      Italy  Italian   \n",
       "1      FL250002   Vanessa Garcia  FEMALE  52.0  Australia  English   \n",
       "2      FL250003      Juan Nelson    male  53.0    Germany   German   \n",
       "3      FL250004   Amanda Spencer       F  38.0  Australia  English   \n",
       "4      FL250005  Lynn Curtis DDS  female  53.0    Germany   German   \n",
       "\n",
       "            primary_skill  years_of_experience hourly_rate_usd  rating  \\\n",
       "0  Blockchain Development                 11.0             100     NaN   \n",
       "1             Mobile Apps                 34.0         USD 100     3.3   \n",
       "2          Graphic Design                 31.0              50     0.0   \n",
       "3         Web Development                  4.0             $40     1.5   \n",
       "4         Web Development                 27.0              30     4.8   \n",
       "\n",
       "  is_active client_satisfaction  \n",
       "0         0                 NaN  \n",
       "1         1                 84%  \n",
       "2         N                 71%  \n",
       "3         N                 90%  \n",
       "4         0                 83%  "
      ]
     },
     "execution_count": 185,
     "metadata": {},
     "output_type": "execute_result"
    }
   ],
   "source": [
    "df.columns = df.columns.str.strip().str.replace(' ', '_').str.replace('(', '').str.replace(')', '').str.lower()\n",
    "df.head()"
   ]
  },
  {
   "cell_type": "markdown",
   "id": "4a69405d",
   "metadata": {},
   "source": [
    "### Freelancer_id"
   ]
  },
  {
   "cell_type": "code",
   "execution_count": 186,
   "id": "0370c333",
   "metadata": {},
   "outputs": [
    {
     "data": {
      "text/plain": [
       "(1000, 12)"
      ]
     },
     "execution_count": 186,
     "metadata": {},
     "output_type": "execute_result"
    }
   ],
   "source": [
    "df.dropna(subset=['freelancer_id'], inplace=True)\n",
    "df.shape"
   ]
  },
  {
   "cell_type": "markdown",
   "id": "12238324",
   "metadata": {},
   "source": [
    "### Gender"
   ]
  },
  {
   "cell_type": "code",
   "execution_count": 187,
   "id": "62223356",
   "metadata": {},
   "outputs": [
    {
     "data": {
      "text/plain": [
       "array(['f', 'FEMALE', 'male', 'F', 'female', 'm', 'MALE', 'Female', 'M',\n",
       "       'Male'], dtype=object)"
      ]
     },
     "execution_count": 187,
     "metadata": {},
     "output_type": "execute_result"
    }
   ],
   "source": [
    "df['gender'].unique()"
   ]
  },
  {
   "cell_type": "code",
   "execution_count": 188,
   "id": "22c2a6bc",
   "metadata": {},
   "outputs": [
    {
     "data": {
      "text/plain": [
       "array(['female', 'male'], dtype=object)"
      ]
     },
     "execution_count": 188,
     "metadata": {},
     "output_type": "execute_result"
    }
   ],
   "source": [
    "df['gender'] = df['gender'].replace(['M', 'm', 'MALE', 'Male'], 'male')\n",
    "df['gender'] = df['gender'].replace(['F', 'f', 'FEMALE', 'Female'], 'female')\n",
    "df['gender'].unique()"
   ]
  },
  {
   "cell_type": "markdown",
   "id": "cb304a9e",
   "metadata": {},
   "source": [
    "### Country"
   ]
  },
  {
   "cell_type": "code",
   "execution_count": 189,
   "id": "df5b1c7b",
   "metadata": {},
   "outputs": [
    {
     "data": {
      "text/plain": [
       "array(['Italy', 'Australia', 'Germany', 'Netherlands', 'Indonesia',\n",
       "       'United States', 'Turkey', 'United Kingdom', 'Argentina', 'Japan',\n",
       "       'India', 'Brazil', 'South Korea', 'Russia', 'Canada', 'France',\n",
       "       'Egypt', 'South Africa', 'China', 'Mexico', 'Spain'], dtype=object)"
      ]
     },
     "execution_count": 189,
     "metadata": {},
     "output_type": "execute_result"
    }
   ],
   "source": [
    "df['country'].unique()"
   ]
  },
  {
   "cell_type": "markdown",
   "id": "6454f535",
   "metadata": {},
   "source": [
    "### Language"
   ]
  },
  {
   "cell_type": "code",
   "execution_count": 190,
   "id": "5f07637c",
   "metadata": {},
   "outputs": [
    {
     "data": {
      "text/plain": [
       "array(['Italian', 'English', 'German', 'Dutch', 'Indonesian', 'Turkish',\n",
       "       'Spanish', 'Japanese', 'Hindi', 'Portuguese', 'Korean', 'Russian',\n",
       "       'French', 'Arabic', 'Afrikaans', 'Mandarin'], dtype=object)"
      ]
     },
     "execution_count": 190,
     "metadata": {},
     "output_type": "execute_result"
    }
   ],
   "source": [
    "df['language'].unique()"
   ]
  },
  {
   "cell_type": "markdown",
   "id": "2a54b945",
   "metadata": {},
   "source": [
    "### Primary Skill"
   ]
  },
  {
   "cell_type": "code",
   "execution_count": 191,
   "id": "3cde89b9",
   "metadata": {},
   "outputs": [
    {
     "data": {
      "text/plain": [
       "array(['Blockchain Development', 'Mobile Apps', 'Graphic Design',\n",
       "       'Web Development', 'AI', 'Data Analysis', 'UI/UX Design',\n",
       "       'Cybersecurity', 'DevOps', 'Machine Learning'], dtype=object)"
      ]
     },
     "execution_count": 191,
     "metadata": {},
     "output_type": "execute_result"
    }
   ],
   "source": [
    "df['primary_skill'].unique()"
   ]
  },
  {
   "cell_type": "markdown",
   "id": "c3114cb4",
   "metadata": {},
   "source": [
    "### Years of Experience"
   ]
  },
  {
   "cell_type": "code",
   "execution_count": 192,
   "id": "7cae36c9",
   "metadata": {},
   "outputs": [
    {
     "data": {
      "text/plain": [
       "array([11., 34., 31.,  4., 27., 14., 10., 22., 17., 15., 18., 20.,  0.,\n",
       "       13., nan,  3.,  9., 21.,  8., 19., 32., 28.,  6., 23.,  7.,  1.,\n",
       "       33., 16., 35., 12., 38.,  5., 30.,  2., 25., 39., 29., 40., 26.,\n",
       "       24., 37., 41.])"
      ]
     },
     "execution_count": 192,
     "metadata": {},
     "output_type": "execute_result"
    }
   ],
   "source": [
    "df['years_of_experience'].unique()"
   ]
  },
  {
   "cell_type": "code",
   "execution_count": 193,
   "id": "6d90af85",
   "metadata": {},
   "outputs": [
    {
     "data": {
      "text/plain": [
       "np.int64(0)"
      ]
     },
     "execution_count": 193,
     "metadata": {},
     "output_type": "execute_result"
    }
   ],
   "source": [
    "df['years_of_experience'] = df['years_of_experience'].fillna(0)\n",
    "df['years_of_experience'].isna().sum()"
   ]
  },
  {
   "cell_type": "markdown",
   "id": "e2394480",
   "metadata": {},
   "source": [
    "### Hourly Rate USD"
   ]
  },
  {
   "cell_type": "code",
   "execution_count": 194,
   "id": "03f0ae08",
   "metadata": {},
   "outputs": [
    {
     "data": {
      "text/plain": [
       "array(['100', 'USD 100', '50', '$40', '30', '$30', 'USD 75', 'USD 40',\n",
       "       nan, '$50', '40', '75', 'USD 50', 'USD 30', '$20', '20', '$75',\n",
       "       '$100', 'USD 20'], dtype=object)"
      ]
     },
     "execution_count": 194,
     "metadata": {},
     "output_type": "execute_result"
    }
   ],
   "source": [
    "df['hourly_rate_usd'].unique()"
   ]
  },
  {
   "cell_type": "code",
   "execution_count": 195,
   "id": "29c1f9c1",
   "metadata": {},
   "outputs": [
    {
     "data": {
      "text/plain": [
       "array([100.,  50.,  40.,  30.,  75.,  nan,  20.])"
      ]
     },
     "execution_count": 195,
     "metadata": {},
     "output_type": "execute_result"
    }
   ],
   "source": [
    "df['hourly_rate_usd'] = df['hourly_rate_usd'].astype(str).str.replace(r'[^0-9.]', '', regex=True).replace('', np.nan).astype(float)\n",
    "df['hourly_rate_usd'].unique()"
   ]
  },
  {
   "cell_type": "markdown",
   "id": "8a75468d",
   "metadata": {},
   "source": [
    "### Rating"
   ]
  },
  {
   "cell_type": "code",
   "execution_count": 196,
   "id": "f33f23e5",
   "metadata": {},
   "outputs": [
    {
     "data": {
      "text/plain": [
       "array([nan, 3.3, 0. , 1.5, 4.8, 2.4, 3.1, 4.6, 4. , 3.6, 2. , 2.9, 3.7,\n",
       "       1.2, 2.5, 1.1, 1.8, 4.7, 1.3, 1. , 4.2, 1.4, 2.2, 3.2, 2.7, 2.8,\n",
       "       4.9, 4.5, 1.9, 3.4, 2.3, 3.9, 3.5, 4.4, 2.6, 1.6, 3.8, 1.7, 5. ,\n",
       "       3. , 4.1, 4.3, 2.1])"
      ]
     },
     "execution_count": 196,
     "metadata": {},
     "output_type": "execute_result"
    }
   ],
   "source": [
    "df['rating'].unique()"
   ]
  },
  {
   "cell_type": "markdown",
   "id": "13a8e6d9",
   "metadata": {},
   "source": [
    "### Is Active"
   ]
  },
  {
   "cell_type": "code",
   "execution_count": 197,
   "id": "f9bbda9b",
   "metadata": {},
   "outputs": [
    {
     "data": {
      "text/plain": [
       "array(['0', '1', 'N', 'False', 'True', 'yes', 'Y', nan, 'no'],\n",
       "      dtype=object)"
      ]
     },
     "execution_count": 197,
     "metadata": {},
     "output_type": "execute_result"
    }
   ],
   "source": [
    "df['is_active'].unique()"
   ]
  },
  {
   "cell_type": "code",
   "execution_count": 198,
   "id": "6490418a",
   "metadata": {},
   "outputs": [
    {
     "data": {
      "text/plain": [
       "array([False,  True])"
      ]
     },
     "execution_count": 198,
     "metadata": {},
     "output_type": "execute_result"
    }
   ],
   "source": [
    "df['is_active'] = (\n",
    "    df['is_active']\n",
    "    .replace(['1', 'Y', 'True', 'yes'], True)\n",
    "    .replace(['0', 'N', 'False', 'no'], False)\n",
    "    .astype(bool)\n",
    ")\n",
    "\n",
    "df['is_active'].unique()"
   ]
  },
  {
   "cell_type": "markdown",
   "id": "e056aafd",
   "metadata": {},
   "source": [
    "### Client Satisfaction"
   ]
  },
  {
   "cell_type": "code",
   "execution_count": 199,
   "id": "264daca8",
   "metadata": {},
   "outputs": [
    {
     "data": {
      "text/plain": [
       "array([nan, '84%', '71%', '90%', '83%', '94%', '76%', '77%', '86%', '93%',\n",
       "       '70%', '69%', '60%', '87%', '75%', '68%', '65%', '100%', '92',\n",
       "       '89%', '62%', '82', '81%', '63%', '67%', '80%', '74%', '85%',\n",
       "       '79%', '72%', '64', '88', '96%', '96', '81', '61%', '97%', '64%',\n",
       "       '73%', '88%', '72', '92%', '82%', '93', '83', '78', '95%', '80',\n",
       "       '87', '66%', '78%', '68', '91%', '97', '60', '70', '99%', '76',\n",
       "       '86', '95', '74', '100', '73', '67', '77', '98%', '71', '85', '91',\n",
       "       '94', '84', '90', '62', '65', '75', '63', '61', '66', '99', '79',\n",
       "       '69', '89'], dtype=object)"
      ]
     },
     "execution_count": 199,
     "metadata": {},
     "output_type": "execute_result"
    }
   ],
   "source": [
    "df['client_satisfaction'].unique()"
   ]
  },
  {
   "cell_type": "code",
   "execution_count": 200,
   "id": "353c1564",
   "metadata": {},
   "outputs": [
    {
     "data": {
      "text/plain": [
       "array([ nan,  84.,  71.,  90.,  83.,  94.,  76.,  77.,  86.,  93.,  70.,\n",
       "        69.,  60.,  87.,  75.,  68.,  65., 100.,  92.,  89.,  62.,  82.,\n",
       "        81.,  63.,  67.,  80.,  74.,  85.,  79.,  72.,  64.,  88.,  96.,\n",
       "        61.,  97.,  73.,  78.,  95.,  66.,  91.,  99.,  98.])"
      ]
     },
     "execution_count": 200,
     "metadata": {},
     "output_type": "execute_result"
    }
   ],
   "source": [
    "df['client_satisfaction'] = df['client_satisfaction'].astype(str).str.replace(r'[^0-9.]', '', regex=True).replace('', np.nan).astype(float)\n",
    "df['client_satisfaction'].unique()"
   ]
  },
  {
   "cell_type": "code",
   "execution_count": 201,
   "id": "85f7454d",
   "metadata": {},
   "outputs": [
    {
     "name": "stdout",
     "output_type": "stream",
     "text": [
      "<class 'pandas.core.frame.DataFrame'>\n",
      "RangeIndex: 1000 entries, 0 to 999\n",
      "Data columns (total 12 columns):\n",
      " #   Column               Non-Null Count  Dtype  \n",
      "---  ------               --------------  -----  \n",
      " 0   freelancer_id        1000 non-null   object \n",
      " 1   name                 1000 non-null   object \n",
      " 2   gender               1000 non-null   object \n",
      " 3   age                  970 non-null    float64\n",
      " 4   country              1000 non-null   object \n",
      " 5   language             1000 non-null   object \n",
      " 6   primary_skill        1000 non-null   object \n",
      " 7   years_of_experience  1000 non-null   float64\n",
      " 8   hourly_rate_usd      906 non-null    float64\n",
      " 9   rating               899 non-null    float64\n",
      " 10  is_active            1000 non-null   bool   \n",
      " 11  client_satisfaction  824 non-null    float64\n",
      "dtypes: bool(1), float64(5), object(6)\n",
      "memory usage: 87.0+ KB\n"
     ]
    }
   ],
   "source": [
    "df.info()"
   ]
  },
  {
   "cell_type": "markdown",
   "id": "ca10ca98",
   "metadata": {},
   "source": [
    "### `dim_genders`"
   ]
  },
  {
   "cell_type": "code",
   "execution_count": 202,
   "id": "d02d28a5",
   "metadata": {},
   "outputs": [
    {
     "data": {
      "text/html": [
       "<div>\n",
       "<style scoped>\n",
       "    .dataframe tbody tr th:only-of-type {\n",
       "        vertical-align: middle;\n",
       "    }\n",
       "\n",
       "    .dataframe tbody tr th {\n",
       "        vertical-align: top;\n",
       "    }\n",
       "\n",
       "    .dataframe thead th {\n",
       "        text-align: right;\n",
       "    }\n",
       "</style>\n",
       "<table border=\"1\" class=\"dataframe\">\n",
       "  <thead>\n",
       "    <tr style=\"text-align: right;\">\n",
       "      <th></th>\n",
       "      <th>gender_id</th>\n",
       "      <th>gender</th>\n",
       "    </tr>\n",
       "  </thead>\n",
       "  <tbody>\n",
       "    <tr>\n",
       "      <th>0</th>\n",
       "      <td>1</td>\n",
       "      <td>female</td>\n",
       "    </tr>\n",
       "    <tr>\n",
       "      <th>1</th>\n",
       "      <td>2</td>\n",
       "      <td>male</td>\n",
       "    </tr>\n",
       "  </tbody>\n",
       "</table>\n",
       "</div>"
      ],
      "text/plain": [
       "   gender_id  gender\n",
       "0          1  female\n",
       "1          2    male"
      ]
     },
     "execution_count": 202,
     "metadata": {},
     "output_type": "execute_result"
    }
   ],
   "source": [
    "dim_genders = df[['gender']].dropna().drop_duplicates().reset_index(drop=True)\n",
    "dim_genders['gender_id'] = range(1, len(dim_genders) + 1)\n",
    "dim_genders = dim_genders[['gender_id', 'gender']]\n",
    "dim_genders"
   ]
  },
  {
   "cell_type": "markdown",
   "id": "9f900a1b",
   "metadata": {},
   "source": [
    "### `dim_countries`"
   ]
  },
  {
   "cell_type": "code",
   "execution_count": 203,
   "id": "08b081d8",
   "metadata": {},
   "outputs": [
    {
     "data": {
      "text/html": [
       "<div>\n",
       "<style scoped>\n",
       "    .dataframe tbody tr th:only-of-type {\n",
       "        vertical-align: middle;\n",
       "    }\n",
       "\n",
       "    .dataframe tbody tr th {\n",
       "        vertical-align: top;\n",
       "    }\n",
       "\n",
       "    .dataframe thead th {\n",
       "        text-align: right;\n",
       "    }\n",
       "</style>\n",
       "<table border=\"1\" class=\"dataframe\">\n",
       "  <thead>\n",
       "    <tr style=\"text-align: right;\">\n",
       "      <th></th>\n",
       "      <th>country_id</th>\n",
       "      <th>country</th>\n",
       "    </tr>\n",
       "  </thead>\n",
       "  <tbody>\n",
       "    <tr>\n",
       "      <th>0</th>\n",
       "      <td>1</td>\n",
       "      <td>Italy</td>\n",
       "    </tr>\n",
       "    <tr>\n",
       "      <th>1</th>\n",
       "      <td>2</td>\n",
       "      <td>Australia</td>\n",
       "    </tr>\n",
       "    <tr>\n",
       "      <th>2</th>\n",
       "      <td>3</td>\n",
       "      <td>Germany</td>\n",
       "    </tr>\n",
       "    <tr>\n",
       "      <th>3</th>\n",
       "      <td>4</td>\n",
       "      <td>Netherlands</td>\n",
       "    </tr>\n",
       "    <tr>\n",
       "      <th>4</th>\n",
       "      <td>5</td>\n",
       "      <td>Indonesia</td>\n",
       "    </tr>\n",
       "    <tr>\n",
       "      <th>5</th>\n",
       "      <td>6</td>\n",
       "      <td>United States</td>\n",
       "    </tr>\n",
       "    <tr>\n",
       "      <th>6</th>\n",
       "      <td>7</td>\n",
       "      <td>Turkey</td>\n",
       "    </tr>\n",
       "    <tr>\n",
       "      <th>7</th>\n",
       "      <td>8</td>\n",
       "      <td>United Kingdom</td>\n",
       "    </tr>\n",
       "    <tr>\n",
       "      <th>8</th>\n",
       "      <td>9</td>\n",
       "      <td>Argentina</td>\n",
       "    </tr>\n",
       "    <tr>\n",
       "      <th>9</th>\n",
       "      <td>10</td>\n",
       "      <td>Japan</td>\n",
       "    </tr>\n",
       "    <tr>\n",
       "      <th>10</th>\n",
       "      <td>11</td>\n",
       "      <td>India</td>\n",
       "    </tr>\n",
       "    <tr>\n",
       "      <th>11</th>\n",
       "      <td>12</td>\n",
       "      <td>Brazil</td>\n",
       "    </tr>\n",
       "    <tr>\n",
       "      <th>12</th>\n",
       "      <td>13</td>\n",
       "      <td>South Korea</td>\n",
       "    </tr>\n",
       "    <tr>\n",
       "      <th>13</th>\n",
       "      <td>14</td>\n",
       "      <td>Russia</td>\n",
       "    </tr>\n",
       "    <tr>\n",
       "      <th>14</th>\n",
       "      <td>15</td>\n",
       "      <td>Canada</td>\n",
       "    </tr>\n",
       "    <tr>\n",
       "      <th>15</th>\n",
       "      <td>16</td>\n",
       "      <td>France</td>\n",
       "    </tr>\n",
       "    <tr>\n",
       "      <th>16</th>\n",
       "      <td>17</td>\n",
       "      <td>Egypt</td>\n",
       "    </tr>\n",
       "    <tr>\n",
       "      <th>17</th>\n",
       "      <td>18</td>\n",
       "      <td>South Africa</td>\n",
       "    </tr>\n",
       "    <tr>\n",
       "      <th>18</th>\n",
       "      <td>19</td>\n",
       "      <td>China</td>\n",
       "    </tr>\n",
       "    <tr>\n",
       "      <th>19</th>\n",
       "      <td>20</td>\n",
       "      <td>Mexico</td>\n",
       "    </tr>\n",
       "    <tr>\n",
       "      <th>20</th>\n",
       "      <td>21</td>\n",
       "      <td>Spain</td>\n",
       "    </tr>\n",
       "  </tbody>\n",
       "</table>\n",
       "</div>"
      ],
      "text/plain": [
       "    country_id         country\n",
       "0            1           Italy\n",
       "1            2       Australia\n",
       "2            3         Germany\n",
       "3            4     Netherlands\n",
       "4            5       Indonesia\n",
       "5            6   United States\n",
       "6            7          Turkey\n",
       "7            8  United Kingdom\n",
       "8            9       Argentina\n",
       "9           10           Japan\n",
       "10          11           India\n",
       "11          12          Brazil\n",
       "12          13     South Korea\n",
       "13          14          Russia\n",
       "14          15          Canada\n",
       "15          16          France\n",
       "16          17           Egypt\n",
       "17          18    South Africa\n",
       "18          19           China\n",
       "19          20          Mexico\n",
       "20          21           Spain"
      ]
     },
     "execution_count": 203,
     "metadata": {},
     "output_type": "execute_result"
    }
   ],
   "source": [
    "dim_countries = df[['country']].dropna().drop_duplicates().reset_index(drop=True)\n",
    "dim_countries['country_id'] = range(1, len(dim_countries) + 1)\n",
    "dim_countries = dim_countries[['country_id', 'country']]\n",
    "dim_countries"
   ]
  },
  {
   "cell_type": "markdown",
   "id": "f0acbf70",
   "metadata": {},
   "source": [
    "### `dim_languages`"
   ]
  },
  {
   "cell_type": "code",
   "execution_count": 204,
   "id": "9619b644",
   "metadata": {},
   "outputs": [
    {
     "data": {
      "text/html": [
       "<div>\n",
       "<style scoped>\n",
       "    .dataframe tbody tr th:only-of-type {\n",
       "        vertical-align: middle;\n",
       "    }\n",
       "\n",
       "    .dataframe tbody tr th {\n",
       "        vertical-align: top;\n",
       "    }\n",
       "\n",
       "    .dataframe thead th {\n",
       "        text-align: right;\n",
       "    }\n",
       "</style>\n",
       "<table border=\"1\" class=\"dataframe\">\n",
       "  <thead>\n",
       "    <tr style=\"text-align: right;\">\n",
       "      <th></th>\n",
       "      <th>language_id</th>\n",
       "      <th>language</th>\n",
       "    </tr>\n",
       "  </thead>\n",
       "  <tbody>\n",
       "    <tr>\n",
       "      <th>0</th>\n",
       "      <td>1</td>\n",
       "      <td>Italian</td>\n",
       "    </tr>\n",
       "    <tr>\n",
       "      <th>1</th>\n",
       "      <td>2</td>\n",
       "      <td>English</td>\n",
       "    </tr>\n",
       "    <tr>\n",
       "      <th>2</th>\n",
       "      <td>3</td>\n",
       "      <td>German</td>\n",
       "    </tr>\n",
       "    <tr>\n",
       "      <th>3</th>\n",
       "      <td>4</td>\n",
       "      <td>Dutch</td>\n",
       "    </tr>\n",
       "    <tr>\n",
       "      <th>4</th>\n",
       "      <td>5</td>\n",
       "      <td>Indonesian</td>\n",
       "    </tr>\n",
       "    <tr>\n",
       "      <th>5</th>\n",
       "      <td>6</td>\n",
       "      <td>Turkish</td>\n",
       "    </tr>\n",
       "    <tr>\n",
       "      <th>6</th>\n",
       "      <td>7</td>\n",
       "      <td>Spanish</td>\n",
       "    </tr>\n",
       "    <tr>\n",
       "      <th>7</th>\n",
       "      <td>8</td>\n",
       "      <td>Japanese</td>\n",
       "    </tr>\n",
       "    <tr>\n",
       "      <th>8</th>\n",
       "      <td>9</td>\n",
       "      <td>Hindi</td>\n",
       "    </tr>\n",
       "    <tr>\n",
       "      <th>9</th>\n",
       "      <td>10</td>\n",
       "      <td>Portuguese</td>\n",
       "    </tr>\n",
       "    <tr>\n",
       "      <th>10</th>\n",
       "      <td>11</td>\n",
       "      <td>Korean</td>\n",
       "    </tr>\n",
       "    <tr>\n",
       "      <th>11</th>\n",
       "      <td>12</td>\n",
       "      <td>Russian</td>\n",
       "    </tr>\n",
       "    <tr>\n",
       "      <th>12</th>\n",
       "      <td>13</td>\n",
       "      <td>French</td>\n",
       "    </tr>\n",
       "    <tr>\n",
       "      <th>13</th>\n",
       "      <td>14</td>\n",
       "      <td>Arabic</td>\n",
       "    </tr>\n",
       "    <tr>\n",
       "      <th>14</th>\n",
       "      <td>15</td>\n",
       "      <td>Afrikaans</td>\n",
       "    </tr>\n",
       "    <tr>\n",
       "      <th>15</th>\n",
       "      <td>16</td>\n",
       "      <td>Mandarin</td>\n",
       "    </tr>\n",
       "  </tbody>\n",
       "</table>\n",
       "</div>"
      ],
      "text/plain": [
       "    language_id    language\n",
       "0             1     Italian\n",
       "1             2     English\n",
       "2             3      German\n",
       "3             4       Dutch\n",
       "4             5  Indonesian\n",
       "5             6     Turkish\n",
       "6             7     Spanish\n",
       "7             8    Japanese\n",
       "8             9       Hindi\n",
       "9            10  Portuguese\n",
       "10           11      Korean\n",
       "11           12     Russian\n",
       "12           13      French\n",
       "13           14      Arabic\n",
       "14           15   Afrikaans\n",
       "15           16    Mandarin"
      ]
     },
     "execution_count": 204,
     "metadata": {},
     "output_type": "execute_result"
    }
   ],
   "source": [
    "dim_languages = df[['language']].dropna().drop_duplicates().reset_index(drop=True)\n",
    "dim_languages['language_id'] = range(1, len(dim_languages) + 1)\n",
    "dim_languages = dim_languages[['language_id', 'language']]\n",
    "dim_languages"
   ]
  },
  {
   "cell_type": "markdown",
   "id": "dc7d929a",
   "metadata": {},
   "source": [
    "### `dim_primary_skills`"
   ]
  },
  {
   "cell_type": "code",
   "execution_count": 205,
   "id": "0789de02",
   "metadata": {},
   "outputs": [
    {
     "data": {
      "text/html": [
       "<div>\n",
       "<style scoped>\n",
       "    .dataframe tbody tr th:only-of-type {\n",
       "        vertical-align: middle;\n",
       "    }\n",
       "\n",
       "    .dataframe tbody tr th {\n",
       "        vertical-align: top;\n",
       "    }\n",
       "\n",
       "    .dataframe thead th {\n",
       "        text-align: right;\n",
       "    }\n",
       "</style>\n",
       "<table border=\"1\" class=\"dataframe\">\n",
       "  <thead>\n",
       "    <tr style=\"text-align: right;\">\n",
       "      <th></th>\n",
       "      <th>primary_skill_id</th>\n",
       "      <th>primary_skill</th>\n",
       "    </tr>\n",
       "  </thead>\n",
       "  <tbody>\n",
       "    <tr>\n",
       "      <th>0</th>\n",
       "      <td>1</td>\n",
       "      <td>Blockchain Development</td>\n",
       "    </tr>\n",
       "    <tr>\n",
       "      <th>1</th>\n",
       "      <td>2</td>\n",
       "      <td>Mobile Apps</td>\n",
       "    </tr>\n",
       "    <tr>\n",
       "      <th>2</th>\n",
       "      <td>3</td>\n",
       "      <td>Graphic Design</td>\n",
       "    </tr>\n",
       "    <tr>\n",
       "      <th>3</th>\n",
       "      <td>4</td>\n",
       "      <td>Web Development</td>\n",
       "    </tr>\n",
       "    <tr>\n",
       "      <th>4</th>\n",
       "      <td>5</td>\n",
       "      <td>AI</td>\n",
       "    </tr>\n",
       "    <tr>\n",
       "      <th>5</th>\n",
       "      <td>6</td>\n",
       "      <td>Data Analysis</td>\n",
       "    </tr>\n",
       "    <tr>\n",
       "      <th>6</th>\n",
       "      <td>7</td>\n",
       "      <td>UI/UX Design</td>\n",
       "    </tr>\n",
       "    <tr>\n",
       "      <th>7</th>\n",
       "      <td>8</td>\n",
       "      <td>Cybersecurity</td>\n",
       "    </tr>\n",
       "    <tr>\n",
       "      <th>8</th>\n",
       "      <td>9</td>\n",
       "      <td>DevOps</td>\n",
       "    </tr>\n",
       "    <tr>\n",
       "      <th>9</th>\n",
       "      <td>10</td>\n",
       "      <td>Machine Learning</td>\n",
       "    </tr>\n",
       "  </tbody>\n",
       "</table>\n",
       "</div>"
      ],
      "text/plain": [
       "   primary_skill_id           primary_skill\n",
       "0                 1  Blockchain Development\n",
       "1                 2             Mobile Apps\n",
       "2                 3          Graphic Design\n",
       "3                 4         Web Development\n",
       "4                 5                      AI\n",
       "5                 6           Data Analysis\n",
       "6                 7            UI/UX Design\n",
       "7                 8           Cybersecurity\n",
       "8                 9                  DevOps\n",
       "9                10        Machine Learning"
      ]
     },
     "execution_count": 205,
     "metadata": {},
     "output_type": "execute_result"
    }
   ],
   "source": [
    "dim_primary_skills = df[['primary_skill']].dropna().drop_duplicates().reset_index(drop=True)\n",
    "dim_primary_skills['primary_skill_id'] = range(1, len(dim_primary_skills) + 1)\n",
    "dim_primary_skills = dim_primary_skills[['primary_skill_id', 'primary_skill']]\n",
    "dim_primary_skills"
   ]
  },
  {
   "cell_type": "markdown",
   "id": "aaaf4fa5",
   "metadata": {},
   "source": [
    "### `fact_freelancers`"
   ]
  },
  {
   "cell_type": "code",
   "execution_count": 206,
   "id": "ffd0be40",
   "metadata": {},
   "outputs": [
    {
     "data": {
      "text/html": [
       "<div>\n",
       "<style scoped>\n",
       "    .dataframe tbody tr th:only-of-type {\n",
       "        vertical-align: middle;\n",
       "    }\n",
       "\n",
       "    .dataframe tbody tr th {\n",
       "        vertical-align: top;\n",
       "    }\n",
       "\n",
       "    .dataframe thead th {\n",
       "        text-align: right;\n",
       "    }\n",
       "</style>\n",
       "<table border=\"1\" class=\"dataframe\">\n",
       "  <thead>\n",
       "    <tr style=\"text-align: right;\">\n",
       "      <th></th>\n",
       "      <th>freelancer_id</th>\n",
       "      <th>name</th>\n",
       "      <th>gender_id</th>\n",
       "      <th>country_id</th>\n",
       "      <th>language_id</th>\n",
       "      <th>primary_skill_id</th>\n",
       "      <th>years_of_experience</th>\n",
       "      <th>hourly_rate_usd</th>\n",
       "      <th>rating</th>\n",
       "      <th>client_satisfaction</th>\n",
       "      <th>is_active</th>\n",
       "    </tr>\n",
       "  </thead>\n",
       "  <tbody>\n",
       "    <tr>\n",
       "      <th>0</th>\n",
       "      <td>FL250001</td>\n",
       "      <td>Ms. Nicole Kidd</td>\n",
       "      <td>1</td>\n",
       "      <td>1</td>\n",
       "      <td>1</td>\n",
       "      <td>1</td>\n",
       "      <td>11.0</td>\n",
       "      <td>100.0</td>\n",
       "      <td>NaN</td>\n",
       "      <td>NaN</td>\n",
       "      <td>False</td>\n",
       "    </tr>\n",
       "    <tr>\n",
       "      <th>1</th>\n",
       "      <td>FL250002</td>\n",
       "      <td>Vanessa Garcia</td>\n",
       "      <td>1</td>\n",
       "      <td>2</td>\n",
       "      <td>2</td>\n",
       "      <td>2</td>\n",
       "      <td>34.0</td>\n",
       "      <td>100.0</td>\n",
       "      <td>3.3</td>\n",
       "      <td>84.0</td>\n",
       "      <td>True</td>\n",
       "    </tr>\n",
       "    <tr>\n",
       "      <th>2</th>\n",
       "      <td>FL250003</td>\n",
       "      <td>Juan Nelson</td>\n",
       "      <td>2</td>\n",
       "      <td>3</td>\n",
       "      <td>3</td>\n",
       "      <td>3</td>\n",
       "      <td>31.0</td>\n",
       "      <td>50.0</td>\n",
       "      <td>0.0</td>\n",
       "      <td>71.0</td>\n",
       "      <td>False</td>\n",
       "    </tr>\n",
       "    <tr>\n",
       "      <th>3</th>\n",
       "      <td>FL250004</td>\n",
       "      <td>Amanda Spencer</td>\n",
       "      <td>1</td>\n",
       "      <td>2</td>\n",
       "      <td>2</td>\n",
       "      <td>4</td>\n",
       "      <td>4.0</td>\n",
       "      <td>40.0</td>\n",
       "      <td>1.5</td>\n",
       "      <td>90.0</td>\n",
       "      <td>False</td>\n",
       "    </tr>\n",
       "    <tr>\n",
       "      <th>4</th>\n",
       "      <td>FL250005</td>\n",
       "      <td>Lynn Curtis DDS</td>\n",
       "      <td>1</td>\n",
       "      <td>3</td>\n",
       "      <td>3</td>\n",
       "      <td>4</td>\n",
       "      <td>27.0</td>\n",
       "      <td>30.0</td>\n",
       "      <td>4.8</td>\n",
       "      <td>83.0</td>\n",
       "      <td>False</td>\n",
       "    </tr>\n",
       "    <tr>\n",
       "      <th>...</th>\n",
       "      <td>...</td>\n",
       "      <td>...</td>\n",
       "      <td>...</td>\n",
       "      <td>...</td>\n",
       "      <td>...</td>\n",
       "      <td>...</td>\n",
       "      <td>...</td>\n",
       "      <td>...</td>\n",
       "      <td>...</td>\n",
       "      <td>...</td>\n",
       "      <td>...</td>\n",
       "    </tr>\n",
       "    <tr>\n",
       "      <th>995</th>\n",
       "      <td>FL250996</td>\n",
       "      <td>Albert Wilcox</td>\n",
       "      <td>2</td>\n",
       "      <td>7</td>\n",
       "      <td>6</td>\n",
       "      <td>9</td>\n",
       "      <td>13.0</td>\n",
       "      <td>100.0</td>\n",
       "      <td>0.0</td>\n",
       "      <td>68.0</td>\n",
       "      <td>False</td>\n",
       "    </tr>\n",
       "    <tr>\n",
       "      <th>996</th>\n",
       "      <td>FL250997</td>\n",
       "      <td>Cheryl Norris</td>\n",
       "      <td>1</td>\n",
       "      <td>3</td>\n",
       "      <td>3</td>\n",
       "      <td>1</td>\n",
       "      <td>6.0</td>\n",
       "      <td>40.0</td>\n",
       "      <td>2.8</td>\n",
       "      <td>82.0</td>\n",
       "      <td>False</td>\n",
       "    </tr>\n",
       "    <tr>\n",
       "      <th>997</th>\n",
       "      <td>FL250998</td>\n",
       "      <td>Kathy Watkins</td>\n",
       "      <td>1</td>\n",
       "      <td>10</td>\n",
       "      <td>8</td>\n",
       "      <td>6</td>\n",
       "      <td>15.0</td>\n",
       "      <td>75.0</td>\n",
       "      <td>NaN</td>\n",
       "      <td>94.0</td>\n",
       "      <td>False</td>\n",
       "    </tr>\n",
       "    <tr>\n",
       "      <th>998</th>\n",
       "      <td>FL250999</td>\n",
       "      <td>John Obrien</td>\n",
       "      <td>2</td>\n",
       "      <td>14</td>\n",
       "      <td>12</td>\n",
       "      <td>10</td>\n",
       "      <td>22.0</td>\n",
       "      <td>100.0</td>\n",
       "      <td>2.8</td>\n",
       "      <td>97.0</td>\n",
       "      <td>True</td>\n",
       "    </tr>\n",
       "    <tr>\n",
       "      <th>999</th>\n",
       "      <td>FL251000</td>\n",
       "      <td>Dawn Green</td>\n",
       "      <td>1</td>\n",
       "      <td>20</td>\n",
       "      <td>7</td>\n",
       "      <td>7</td>\n",
       "      <td>18.0</td>\n",
       "      <td>20.0</td>\n",
       "      <td>1.7</td>\n",
       "      <td>72.0</td>\n",
       "      <td>True</td>\n",
       "    </tr>\n",
       "  </tbody>\n",
       "</table>\n",
       "<p>1000 rows × 11 columns</p>\n",
       "</div>"
      ],
      "text/plain": [
       "    freelancer_id             name  gender_id  country_id  language_id  \\\n",
       "0        FL250001  Ms. Nicole Kidd          1           1            1   \n",
       "1        FL250002   Vanessa Garcia          1           2            2   \n",
       "2        FL250003      Juan Nelson          2           3            3   \n",
       "3        FL250004   Amanda Spencer          1           2            2   \n",
       "4        FL250005  Lynn Curtis DDS          1           3            3   \n",
       "..            ...              ...        ...         ...          ...   \n",
       "995      FL250996    Albert Wilcox          2           7            6   \n",
       "996      FL250997    Cheryl Norris          1           3            3   \n",
       "997      FL250998    Kathy Watkins          1          10            8   \n",
       "998      FL250999      John Obrien          2          14           12   \n",
       "999      FL251000       Dawn Green          1          20            7   \n",
       "\n",
       "     primary_skill_id  years_of_experience  hourly_rate_usd  rating  \\\n",
       "0                   1                 11.0            100.0     NaN   \n",
       "1                   2                 34.0            100.0     3.3   \n",
       "2                   3                 31.0             50.0     0.0   \n",
       "3                   4                  4.0             40.0     1.5   \n",
       "4                   4                 27.0             30.0     4.8   \n",
       "..                ...                  ...              ...     ...   \n",
       "995                 9                 13.0            100.0     0.0   \n",
       "996                 1                  6.0             40.0     2.8   \n",
       "997                 6                 15.0             75.0     NaN   \n",
       "998                10                 22.0            100.0     2.8   \n",
       "999                 7                 18.0             20.0     1.7   \n",
       "\n",
       "     client_satisfaction  is_active  \n",
       "0                    NaN      False  \n",
       "1                   84.0       True  \n",
       "2                   71.0      False  \n",
       "3                   90.0      False  \n",
       "4                   83.0      False  \n",
       "..                   ...        ...  \n",
       "995                 68.0      False  \n",
       "996                 82.0      False  \n",
       "997                 94.0      False  \n",
       "998                 97.0       True  \n",
       "999                 72.0       True  \n",
       "\n",
       "[1000 rows x 11 columns]"
      ]
     },
     "execution_count": 206,
     "metadata": {},
     "output_type": "execute_result"
    }
   ],
   "source": [
    "fact_freelancers = df.merge(dim_genders, on='gender', how='left') \\\n",
    "    .merge(dim_countries, on='country', how='left') \\\n",
    "    .merge(dim_languages, on='language', how='left') \\\n",
    "    .merge(dim_primary_skills, on='primary_skill', how='left')\n",
    "\n",
    "fact_freelancers = fact_freelancers[['freelancer_id', 'name', 'gender_id', 'country_id', 'language_id', 'primary_skill_id', 'years_of_experience', 'hourly_rate_usd', 'rating', 'client_satisfaction', 'is_active']]\n",
    "fact_freelancers"
   ]
  },
  {
   "cell_type": "markdown",
   "id": "498f6749",
   "metadata": {},
   "source": [
    "# Load"
   ]
  },
  {
   "cell_type": "code",
   "execution_count": 207,
   "id": "c3119a8e",
   "metadata": {},
   "outputs": [],
   "source": [
    "dim_genders.to_csv(f'target/dim_genders_{timeline}.csv', index=False)\n",
    "dim_countries.to_csv(f'target/dim_countries_{timeline}.csv', index=False)\n",
    "dim_languages.to_csv(f'target/dim_languages_{timeline}.csv', index=False)\n",
    "dim_primary_skills.to_csv(f'target/dim_primary_skills_{timeline}.csv', index=False)\n",
    "fact_freelancers.to_csv(f'target/fact_freelancers_{timeline}.csv', index=False)"
   ]
  }
 ],
 "metadata": {
  "kernelspec": {
   "display_name": "venv",
   "language": "python",
   "name": "python3"
  },
  "language_info": {
   "codemirror_mode": {
    "name": "ipython",
    "version": 3
   },
   "file_extension": ".py",
   "mimetype": "text/x-python",
   "name": "python",
   "nbconvert_exporter": "python",
   "pygments_lexer": "ipython3",
   "version": "3.11.9"
  }
 },
 "nbformat": 4,
 "nbformat_minor": 5
}
