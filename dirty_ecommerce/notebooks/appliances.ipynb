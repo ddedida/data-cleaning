{
 "cells": [
  {
   "cell_type": "code",
   "execution_count": 1,
   "id": "2e38ef58",
   "metadata": {},
   "outputs": [],
   "source": [
    "import pandas as pd\n",
    "import numpy as np\n",
    "from datetime import datetime"
   ]
  },
  {
   "cell_type": "markdown",
   "id": "183d58ed",
   "metadata": {},
   "source": [
    "# Extract"
   ]
  },
  {
   "cell_type": "code",
   "execution_count": 2,
   "id": "b073727e",
   "metadata": {},
   "outputs": [
    {
     "name": "stdout",
     "output_type": "stream",
     "text": [
      "<class 'pandas.core.frame.DataFrame'>\n",
      "RangeIndex: 3986 entries, 0 to 3985\n",
      "Data columns (total 8 columns):\n",
      " #   Column                       Non-Null Count  Dtype \n",
      "---  ------                       --------------  ----- \n",
      " 0   goods-title-link--jump       40 non-null     object\n",
      " 1   goods-title-link--jump href  40 non-null     object\n",
      " 2   rank-title                   559 non-null    object\n",
      " 3   rank-sub                     559 non-null    object\n",
      " 4   price                        3986 non-null   object\n",
      " 5   discount                     2459 non-null   object\n",
      " 6   selling_proposition          1361 non-null   object\n",
      " 7   goods-title-link             3946 non-null   object\n",
      "dtypes: object(8)\n",
      "memory usage: 249.3+ KB\n"
     ]
    }
   ],
   "source": [
    "df = pd.read_csv('../data/raw/us-shein-appliances-3987.csv')\n",
    "df.info()"
   ]
  },
  {
   "cell_type": "markdown",
   "id": "d6d2be1a",
   "metadata": {},
   "source": [
    "# Transform"
   ]
  },
  {
   "cell_type": "markdown",
   "id": "4276432a",
   "metadata": {},
   "source": [
    "### Transform Column Name to Snake Case"
   ]
  },
  {
   "cell_type": "code",
   "execution_count": 3,
   "id": "2792bfbe",
   "metadata": {},
   "outputs": [
    {
     "data": {
      "text/html": [
       "<div>\n",
       "<style scoped>\n",
       "    .dataframe tbody tr th:only-of-type {\n",
       "        vertical-align: middle;\n",
       "    }\n",
       "\n",
       "    .dataframe tbody tr th {\n",
       "        vertical-align: top;\n",
       "    }\n",
       "\n",
       "    .dataframe thead th {\n",
       "        text-align: right;\n",
       "    }\n",
       "</style>\n",
       "<table border=\"1\" class=\"dataframe\">\n",
       "  <thead>\n",
       "    <tr style=\"text-align: right;\">\n",
       "      <th></th>\n",
       "      <th>goods_title_link_jump</th>\n",
       "      <th>goods_title_link_jump_href</th>\n",
       "      <th>rank_title</th>\n",
       "      <th>rank_sub</th>\n",
       "      <th>price</th>\n",
       "      <th>discount</th>\n",
       "      <th>selling_proposition</th>\n",
       "      <th>goods_title_link</th>\n",
       "    </tr>\n",
       "  </thead>\n",
       "  <tbody>\n",
       "    <tr>\n",
       "      <th>0</th>\n",
       "      <td>1pc Rechargeable Deep Tissue Muscle Handheld M...</td>\n",
       "      <td>https://us.shein.com/1pc-Rechargeable-Deep-Tis...</td>\n",
       "      <td>#1 Best Sellers</td>\n",
       "      <td>in Give Gifts</td>\n",
       "      <td>$2.03</td>\n",
       "      <td>-22%</td>\n",
       "      <td>NaN</td>\n",
       "      <td>NaN</td>\n",
       "    </tr>\n",
       "    <tr>\n",
       "      <th>1</th>\n",
       "      <td>1pc Portable Hanging Neck Fan</td>\n",
       "      <td>https://us.shein.com/1pc-Portable-Hanging-Neck...</td>\n",
       "      <td>#4 Best Sellers</td>\n",
       "      <td>in Top rated in Portable Fans</td>\n",
       "      <td>$6.48</td>\n",
       "      <td>-20%</td>\n",
       "      <td>NaN</td>\n",
       "      <td>NaN</td>\n",
       "    </tr>\n",
       "    <tr>\n",
       "      <th>2</th>\n",
       "      <td>1pc Pink Colored Curved Eyelash Curler False E...</td>\n",
       "      <td>https://us.shein.com/1pc-Pink-Colored-Curved-E...</td>\n",
       "      <td>NaN</td>\n",
       "      <td>NaN</td>\n",
       "      <td>$1.80</td>\n",
       "      <td>NaN</td>\n",
       "      <td>400+ sold recently</td>\n",
       "      <td>NaN</td>\n",
       "    </tr>\n",
       "    <tr>\n",
       "      <th>3</th>\n",
       "      <td>1 Mini Portable Handheld Fan With 2 Aa Batteri...</td>\n",
       "      <td>https://us.shein.com/1-Mini-Portable-Handheld-...</td>\n",
       "      <td>NaN</td>\n",
       "      <td>NaN</td>\n",
       "      <td>$0.88</td>\n",
       "      <td>-72%</td>\n",
       "      <td>5.6k+ sold recently</td>\n",
       "      <td>NaN</td>\n",
       "    </tr>\n",
       "    <tr>\n",
       "      <th>4</th>\n",
       "      <td>Wit Water Flosser,Portable Oral Irrigator With...</td>\n",
       "      <td>https://us.shein.com/Wit-Water-Flosser-Portabl...</td>\n",
       "      <td>#6 Best Sellers</td>\n",
       "      <td>in Oral Irrigators</td>\n",
       "      <td>$12.06</td>\n",
       "      <td>-40%</td>\n",
       "      <td>NaN</td>\n",
       "      <td>NaN</td>\n",
       "    </tr>\n",
       "  </tbody>\n",
       "</table>\n",
       "</div>"
      ],
      "text/plain": [
       "                               goods_title_link_jump  \\\n",
       "0  1pc Rechargeable Deep Tissue Muscle Handheld M...   \n",
       "1                      1pc Portable Hanging Neck Fan   \n",
       "2  1pc Pink Colored Curved Eyelash Curler False E...   \n",
       "3  1 Mini Portable Handheld Fan With 2 Aa Batteri...   \n",
       "4  Wit Water Flosser,Portable Oral Irrigator With...   \n",
       "\n",
       "                          goods_title_link_jump_href       rank_title  \\\n",
       "0  https://us.shein.com/1pc-Rechargeable-Deep-Tis...  #1 Best Sellers   \n",
       "1  https://us.shein.com/1pc-Portable-Hanging-Neck...  #4 Best Sellers   \n",
       "2  https://us.shein.com/1pc-Pink-Colored-Curved-E...              NaN   \n",
       "3  https://us.shein.com/1-Mini-Portable-Handheld-...              NaN   \n",
       "4  https://us.shein.com/Wit-Water-Flosser-Portabl...  #6 Best Sellers   \n",
       "\n",
       "                        rank_sub   price discount  selling_proposition  \\\n",
       "0                  in Give Gifts   $2.03     -22%                  NaN   \n",
       "1  in Top rated in Portable Fans   $6.48     -20%                  NaN   \n",
       "2                            NaN   $1.80      NaN   400+ sold recently   \n",
       "3                            NaN   $0.88     -72%  5.6k+ sold recently   \n",
       "4             in Oral Irrigators  $12.06     -40%                  NaN   \n",
       "\n",
       "  goods_title_link  \n",
       "0              NaN  \n",
       "1              NaN  \n",
       "2              NaN  \n",
       "3              NaN  \n",
       "4              NaN  "
      ]
     },
     "execution_count": 3,
     "metadata": {},
     "output_type": "execute_result"
    }
   ],
   "source": [
    "df.columns = df.columns.str.strip().str.lower().str.replace('-','_').str.replace(' ','_').str.replace('__','_')\n",
    "df.head()"
   ]
  },
  {
   "cell_type": "markdown",
   "id": "28654888",
   "metadata": {},
   "source": [
    "### Locate Row that Hasn't Product Title"
   ]
  },
  {
   "cell_type": "code",
   "execution_count": 4,
   "id": "398edf22",
   "metadata": {},
   "outputs": [
    {
     "data": {
      "text/plain": [
       "(0, 8)"
      ]
     },
     "execution_count": 4,
     "metadata": {},
     "output_type": "execute_result"
    }
   ],
   "source": [
    "df.loc[df['goods_title_link_jump'].isna() & df['goods_title_link'].isna()].shape"
   ]
  },
  {
   "cell_type": "markdown",
   "id": "4d74410d",
   "metadata": {},
   "source": [
    "### `goods_title_link_jump`\n",
    "Product Title (1)"
   ]
  },
  {
   "cell_type": "code",
   "execution_count": 5,
   "id": "e67a9117",
   "metadata": {},
   "outputs": [
    {
     "name": "stdout",
     "output_type": "stream",
     "text": [
      "<class 'pandas.core.series.Series'>\n",
      "RangeIndex: 3986 entries, 0 to 3985\n",
      "Series name: goods_title_link_jump\n",
      "Non-Null Count  Dtype \n",
      "--------------  ----- \n",
      "40 non-null     object\n",
      "dtypes: object(1)\n",
      "memory usage: 31.3+ KB\n"
     ]
    }
   ],
   "source": [
    "df['goods_title_link_jump'].info()"
   ]
  },
  {
   "cell_type": "code",
   "execution_count": 6,
   "id": "3086937d",
   "metadata": {},
   "outputs": [
    {
     "data": {
      "text/plain": [
       "40"
      ]
     },
     "execution_count": 6,
     "metadata": {},
     "output_type": "execute_result"
    }
   ],
   "source": [
    "df['goods_title_link_jump'].nunique()"
   ]
  },
  {
   "cell_type": "code",
   "execution_count": 7,
   "id": "baaaac7b",
   "metadata": {},
   "outputs": [
    {
     "data": {
      "text/plain": [
       "np.int64(3945)"
      ]
     },
     "execution_count": 7,
     "metadata": {},
     "output_type": "execute_result"
    }
   ],
   "source": [
    "df['goods_title_link_jump'].duplicated().sum()"
   ]
  },
  {
   "cell_type": "code",
   "execution_count": 8,
   "id": "1f8e5f97",
   "metadata": {},
   "outputs": [
    {
     "data": {
      "text/plain": [
       "np.int64(3946)"
      ]
     },
     "execution_count": 8,
     "metadata": {},
     "output_type": "execute_result"
    }
   ],
   "source": [
    "df['goods_title_link_jump'].isna().sum()"
   ]
  },
  {
   "cell_type": "code",
   "execution_count": 9,
   "id": "c948011b",
   "metadata": {},
   "outputs": [
    {
     "data": {
      "text/html": [
       "<div>\n",
       "<style scoped>\n",
       "    .dataframe tbody tr th:only-of-type {\n",
       "        vertical-align: middle;\n",
       "    }\n",
       "\n",
       "    .dataframe tbody tr th {\n",
       "        vertical-align: top;\n",
       "    }\n",
       "\n",
       "    .dataframe thead th {\n",
       "        text-align: right;\n",
       "    }\n",
       "</style>\n",
       "<table border=\"1\" class=\"dataframe\">\n",
       "  <thead>\n",
       "    <tr style=\"text-align: right;\">\n",
       "      <th></th>\n",
       "      <th>goods_title_link_jump</th>\n",
       "      <th>goods_title_link_jump_href</th>\n",
       "      <th>rank_title</th>\n",
       "      <th>rank_sub</th>\n",
       "      <th>price</th>\n",
       "      <th>discount</th>\n",
       "      <th>selling_proposition</th>\n",
       "      <th>goods_title_link</th>\n",
       "    </tr>\n",
       "  </thead>\n",
       "  <tbody>\n",
       "    <tr>\n",
       "      <th>0</th>\n",
       "      <td>1pc Rechargeable Deep Tissue Muscle Handheld M...</td>\n",
       "      <td>https://us.shein.com/1pc-Rechargeable-Deep-Tis...</td>\n",
       "      <td>#1 Best Sellers</td>\n",
       "      <td>in Give Gifts</td>\n",
       "      <td>$2.03</td>\n",
       "      <td>-22%</td>\n",
       "      <td>NaN</td>\n",
       "      <td>NaN</td>\n",
       "    </tr>\n",
       "    <tr>\n",
       "      <th>1</th>\n",
       "      <td>1pc Portable Hanging Neck Fan</td>\n",
       "      <td>https://us.shein.com/1pc-Portable-Hanging-Neck...</td>\n",
       "      <td>#4 Best Sellers</td>\n",
       "      <td>in Top rated in Portable Fans</td>\n",
       "      <td>$6.48</td>\n",
       "      <td>-20%</td>\n",
       "      <td>NaN</td>\n",
       "      <td>NaN</td>\n",
       "    </tr>\n",
       "    <tr>\n",
       "      <th>2</th>\n",
       "      <td>1pc Pink Colored Curved Eyelash Curler False E...</td>\n",
       "      <td>https://us.shein.com/1pc-Pink-Colored-Curved-E...</td>\n",
       "      <td>NaN</td>\n",
       "      <td>NaN</td>\n",
       "      <td>$1.80</td>\n",
       "      <td>NaN</td>\n",
       "      <td>400+ sold recently</td>\n",
       "      <td>NaN</td>\n",
       "    </tr>\n",
       "    <tr>\n",
       "      <th>3</th>\n",
       "      <td>1 Mini Portable Handheld Fan With 2 Aa Batteri...</td>\n",
       "      <td>https://us.shein.com/1-Mini-Portable-Handheld-...</td>\n",
       "      <td>NaN</td>\n",
       "      <td>NaN</td>\n",
       "      <td>$0.88</td>\n",
       "      <td>-72%</td>\n",
       "      <td>5.6k+ sold recently</td>\n",
       "      <td>NaN</td>\n",
       "    </tr>\n",
       "    <tr>\n",
       "      <th>4</th>\n",
       "      <td>Wit Water Flosser,Portable Oral Irrigator With...</td>\n",
       "      <td>https://us.shein.com/Wit-Water-Flosser-Portabl...</td>\n",
       "      <td>#6 Best Sellers</td>\n",
       "      <td>in Oral Irrigators</td>\n",
       "      <td>$12.06</td>\n",
       "      <td>-40%</td>\n",
       "      <td>NaN</td>\n",
       "      <td>NaN</td>\n",
       "    </tr>\n",
       "  </tbody>\n",
       "</table>\n",
       "</div>"
      ],
      "text/plain": [
       "                               goods_title_link_jump  \\\n",
       "0  1pc Rechargeable Deep Tissue Muscle Handheld M...   \n",
       "1                      1pc Portable Hanging Neck Fan   \n",
       "2  1pc Pink Colored Curved Eyelash Curler False E...   \n",
       "3  1 Mini Portable Handheld Fan With 2 Aa Batteri...   \n",
       "4  Wit Water Flosser,Portable Oral Irrigator With...   \n",
       "\n",
       "                          goods_title_link_jump_href       rank_title  \\\n",
       "0  https://us.shein.com/1pc-Rechargeable-Deep-Tis...  #1 Best Sellers   \n",
       "1  https://us.shein.com/1pc-Portable-Hanging-Neck...  #4 Best Sellers   \n",
       "2  https://us.shein.com/1pc-Pink-Colored-Curved-E...              NaN   \n",
       "3  https://us.shein.com/1-Mini-Portable-Handheld-...              NaN   \n",
       "4  https://us.shein.com/Wit-Water-Flosser-Portabl...  #6 Best Sellers   \n",
       "\n",
       "                        rank_sub   price discount  selling_proposition  \\\n",
       "0                  in Give Gifts   $2.03     -22%                  NaN   \n",
       "1  in Top rated in Portable Fans   $6.48     -20%                  NaN   \n",
       "2                            NaN   $1.80      NaN   400+ sold recently   \n",
       "3                            NaN   $0.88     -72%  5.6k+ sold recently   \n",
       "4             in Oral Irrigators  $12.06     -40%                  NaN   \n",
       "\n",
       "  goods_title_link  \n",
       "0              NaN  \n",
       "1              NaN  \n",
       "2              NaN  \n",
       "3              NaN  \n",
       "4              NaN  "
      ]
     },
     "execution_count": 9,
     "metadata": {},
     "output_type": "execute_result"
    }
   ],
   "source": [
    "df['goods_title_link_jump'] = df['goods_title_link_jump'].str.replace(r'\\s+', ' ', regex=True)\n",
    "df.head()\n"
   ]
  },
  {
   "cell_type": "markdown",
   "id": "adbdd4de",
   "metadata": {},
   "source": [
    "### `goods_title_link_jump href`\n",
    "link to product"
   ]
  },
  {
   "cell_type": "code",
   "execution_count": 10,
   "id": "dd30f819",
   "metadata": {},
   "outputs": [
    {
     "name": "stdout",
     "output_type": "stream",
     "text": [
      "<class 'pandas.core.series.Series'>\n",
      "RangeIndex: 3986 entries, 0 to 3985\n",
      "Series name: goods_title_link_jump_href\n",
      "Non-Null Count  Dtype \n",
      "--------------  ----- \n",
      "40 non-null     object\n",
      "dtypes: object(1)\n",
      "memory usage: 31.3+ KB\n"
     ]
    }
   ],
   "source": [
    "df['goods_title_link_jump_href'].info()"
   ]
  },
  {
   "cell_type": "code",
   "execution_count": 11,
   "id": "06b76f62",
   "metadata": {},
   "outputs": [
    {
     "data": {
      "text/plain": [
       "(40, 8)"
      ]
     },
     "execution_count": 11,
     "metadata": {},
     "output_type": "execute_result"
    }
   ],
   "source": [
    "df[df['goods_title_link_jump_href'].notna() & df['goods_title_link_jump'].notna()].shape"
   ]
  },
  {
   "cell_type": "markdown",
   "id": "4918984e",
   "metadata": {},
   "source": [
    "every row that has `goods_title_link_jump` is always has `goods_title_link_jump_href`"
   ]
  },
  {
   "cell_type": "markdown",
   "id": "6e9a3c8b",
   "metadata": {},
   "source": [
    "### `rank_title`\n",
    "rank in subcategory"
   ]
  },
  {
   "cell_type": "code",
   "execution_count": 12,
   "id": "917b9ae1",
   "metadata": {},
   "outputs": [
    {
     "name": "stdout",
     "output_type": "stream",
     "text": [
      "<class 'pandas.core.series.Series'>\n",
      "RangeIndex: 3986 entries, 0 to 3985\n",
      "Series name: rank_title\n",
      "Non-Null Count  Dtype \n",
      "--------------  ----- \n",
      "559 non-null    object\n",
      "dtypes: object(1)\n",
      "memory usage: 31.3+ KB\n"
     ]
    }
   ],
   "source": [
    "df['rank_title'].info()"
   ]
  },
  {
   "cell_type": "code",
   "execution_count": 13,
   "id": "f2c6402a",
   "metadata": {},
   "outputs": [
    {
     "data": {
      "text/plain": [
       "array(['#1 Best Sellers', '#4 Best Sellers', nan, '#6 Best Sellers',\n",
       "       '#10 Best Sellers', '#8 Best Sellers', '#9 Best Sellers',\n",
       "       '#5 Best Sellers', '#2 Best Sellers', '#7 Best Sellers',\n",
       "       '#3 Best Sellers'], dtype=object)"
      ]
     },
     "execution_count": 13,
     "metadata": {},
     "output_type": "execute_result"
    }
   ],
   "source": [
    "df['rank_title'].unique()"
   ]
  },
  {
   "cell_type": "code",
   "execution_count": 14,
   "id": "28d923ed",
   "metadata": {},
   "outputs": [
    {
     "data": {
      "text/plain": [
       "array(['1', '4', nan, '6', '10', '8', '9', '5', '2', '7', '3'],\n",
       "      dtype=object)"
      ]
     },
     "execution_count": 14,
     "metadata": {},
     "output_type": "execute_result"
    }
   ],
   "source": [
    "df['rank_title'] = df['rank_title'].str.replace(r'[^0-9]', '', regex=True)\n",
    "df['rank_title'].unique()"
   ]
  },
  {
   "cell_type": "markdown",
   "id": "54629c16",
   "metadata": {},
   "source": [
    "### `rank_sub`\n",
    "Subcategory of the product"
   ]
  },
  {
   "cell_type": "code",
   "execution_count": 15,
   "id": "7f2afb89",
   "metadata": {},
   "outputs": [
    {
     "name": "stdout",
     "output_type": "stream",
     "text": [
      "<class 'pandas.core.series.Series'>\n",
      "RangeIndex: 3986 entries, 0 to 3985\n",
      "Series name: rank_sub\n",
      "Non-Null Count  Dtype \n",
      "--------------  ----- \n",
      "559 non-null    object\n",
      "dtypes: object(1)\n",
      "memory usage: 31.3+ KB\n"
     ]
    }
   ],
   "source": [
    "df['rank_sub'].info()"
   ]
  },
  {
   "cell_type": "code",
   "execution_count": 16,
   "id": "23ed9571",
   "metadata": {},
   "outputs": [
    {
     "data": {
      "text/plain": [
       "(559, 8)"
      ]
     },
     "execution_count": 16,
     "metadata": {},
     "output_type": "execute_result"
    }
   ],
   "source": [
    "df[df['rank_title'].notna() & df['rank_sub'].notna()].shape"
   ]
  },
  {
   "cell_type": "markdown",
   "id": "f664af30",
   "metadata": {},
   "source": [
    "every `rank_title` has `rank_sub`"
   ]
  },
  {
   "cell_type": "code",
   "execution_count": 17,
   "id": "51b08830",
   "metadata": {},
   "outputs": [
    {
     "data": {
      "text/plain": [
       "124"
      ]
     },
     "execution_count": 17,
     "metadata": {},
     "output_type": "execute_result"
    }
   ],
   "source": [
    "df['rank_sub'].nunique()"
   ]
  },
  {
   "cell_type": "code",
   "execution_count": 18,
   "id": "ef4ef1c0",
   "metadata": {},
   "outputs": [
    {
     "data": {
      "text/html": [
       "<div>\n",
       "<style scoped>\n",
       "    .dataframe tbody tr th:only-of-type {\n",
       "        vertical-align: middle;\n",
       "    }\n",
       "\n",
       "    .dataframe tbody tr th {\n",
       "        vertical-align: top;\n",
       "    }\n",
       "\n",
       "    .dataframe thead th {\n",
       "        text-align: right;\n",
       "    }\n",
       "</style>\n",
       "<table border=\"1\" class=\"dataframe\">\n",
       "  <thead>\n",
       "    <tr style=\"text-align: right;\">\n",
       "      <th></th>\n",
       "      <th>rank_sub</th>\n",
       "    </tr>\n",
       "  </thead>\n",
       "  <tbody>\n",
       "    <tr>\n",
       "      <th>0</th>\n",
       "      <td>in Give Gifts</td>\n",
       "    </tr>\n",
       "    <tr>\n",
       "      <th>1</th>\n",
       "      <td>in Top rated in Portable Fans</td>\n",
       "    </tr>\n",
       "    <tr>\n",
       "      <th>2</th>\n",
       "      <td>NaN</td>\n",
       "    </tr>\n",
       "    <tr>\n",
       "      <th>3</th>\n",
       "      <td>NaN</td>\n",
       "    </tr>\n",
       "    <tr>\n",
       "      <th>4</th>\n",
       "      <td>in Oral Irrigators</td>\n",
       "    </tr>\n",
       "    <tr>\n",
       "      <th>5</th>\n",
       "      <td>in Refrigerators &amp; Freezers</td>\n",
       "    </tr>\n",
       "    <tr>\n",
       "      <th>6</th>\n",
       "      <td>in Other Household Appliances</td>\n",
       "    </tr>\n",
       "    <tr>\n",
       "      <th>7</th>\n",
       "      <td>NaN</td>\n",
       "    </tr>\n",
       "    <tr>\n",
       "      <th>8</th>\n",
       "      <td>in Oral Care Appliances</td>\n",
       "    </tr>\n",
       "    <tr>\n",
       "      <th>9</th>\n",
       "      <td>in Household Appliances</td>\n",
       "    </tr>\n",
       "  </tbody>\n",
       "</table>\n",
       "</div>"
      ],
      "text/plain": [
       "                        rank_sub\n",
       "0                  in Give Gifts\n",
       "1  in Top rated in Portable Fans\n",
       "2                            NaN\n",
       "3                            NaN\n",
       "4             in Oral Irrigators\n",
       "5    in Refrigerators & Freezers\n",
       "6  in Other Household Appliances\n",
       "7                            NaN\n",
       "8        in Oral Care Appliances\n",
       "9        in Household Appliances"
      ]
     },
     "execution_count": 18,
     "metadata": {},
     "output_type": "execute_result"
    }
   ],
   "source": [
    "df[['rank_sub']].head(10)"
   ]
  },
  {
   "cell_type": "code",
   "execution_count": 19,
   "id": "749609ee",
   "metadata": {},
   "outputs": [
    {
     "name": "stdout",
     "output_type": "stream",
     "text": [
      "<class 'pandas.core.frame.DataFrame'>\n",
      "RangeIndex: 3986 entries, 0 to 3985\n",
      "Data columns (total 8 columns):\n",
      " #   Column                      Non-Null Count  Dtype \n",
      "---  ------                      --------------  ----- \n",
      " 0   goods_title_link_jump       40 non-null     object\n",
      " 1   goods_title_link_jump_href  40 non-null     object\n",
      " 2   rank_title                  559 non-null    object\n",
      " 3   rank_sub                    559 non-null    object\n",
      " 4   price                       3986 non-null   object\n",
      " 5   discount                    2459 non-null   object\n",
      " 6   selling_proposition         1361 non-null   object\n",
      " 7   goods_title_link            3946 non-null   object\n",
      "dtypes: object(8)\n",
      "memory usage: 249.3+ KB\n"
     ]
    }
   ],
   "source": [
    "df.info()"
   ]
  },
  {
   "cell_type": "markdown",
   "id": "df95b01c",
   "metadata": {},
   "source": [
    "### `price`\n",
    "Price of the product"
   ]
  },
  {
   "cell_type": "code",
   "execution_count": 20,
   "id": "671744a2",
   "metadata": {},
   "outputs": [
    {
     "name": "stdout",
     "output_type": "stream",
     "text": [
      "<class 'pandas.core.series.Series'>\n",
      "RangeIndex: 3986 entries, 0 to 3985\n",
      "Series name: price\n",
      "Non-Null Count  Dtype \n",
      "--------------  ----- \n",
      "3986 non-null   object\n",
      "dtypes: object(1)\n",
      "memory usage: 31.3+ KB\n"
     ]
    }
   ],
   "source": [
    "df['price'].info()"
   ]
  },
  {
   "cell_type": "code",
   "execution_count": 21,
   "id": "799ec4f8",
   "metadata": {},
   "outputs": [
    {
     "data": {
      "text/plain": [
       "price\n",
       "$2.90     35\n",
       "$38.99    30\n",
       "$39.99    27\n",
       "$2.70     26\n",
       "$22.99    26\n",
       "          ..\n",
       "$8.82      1\n",
       "$58.20     1\n",
       "$65.45     1\n",
       "$54.39     1\n",
       "$61.68     1\n",
       "Name: count, Length: 1512, dtype: int64"
      ]
     },
     "execution_count": 21,
     "metadata": {},
     "output_type": "execute_result"
    }
   ],
   "source": [
    "df['price'].value_counts()"
   ]
  },
  {
   "cell_type": "code",
   "execution_count": 22,
   "id": "e25d7192",
   "metadata": {},
   "outputs": [
    {
     "data": {
      "text/html": [
       "<div>\n",
       "<style scoped>\n",
       "    .dataframe tbody tr th:only-of-type {\n",
       "        vertical-align: middle;\n",
       "    }\n",
       "\n",
       "    .dataframe tbody tr th {\n",
       "        vertical-align: top;\n",
       "    }\n",
       "\n",
       "    .dataframe thead th {\n",
       "        text-align: right;\n",
       "    }\n",
       "</style>\n",
       "<table border=\"1\" class=\"dataframe\">\n",
       "  <thead>\n",
       "    <tr style=\"text-align: right;\">\n",
       "      <th></th>\n",
       "      <th>goods_title_link_jump</th>\n",
       "      <th>goods_title_link_jump_href</th>\n",
       "      <th>rank_title</th>\n",
       "      <th>rank_sub</th>\n",
       "      <th>price</th>\n",
       "      <th>discount</th>\n",
       "      <th>selling_proposition</th>\n",
       "      <th>goods_title_link</th>\n",
       "    </tr>\n",
       "  </thead>\n",
       "  <tbody>\n",
       "    <tr>\n",
       "      <th>1441</th>\n",
       "      <td>NaN</td>\n",
       "      <td>NaN</td>\n",
       "      <td>NaN</td>\n",
       "      <td>NaN</td>\n",
       "      <td>$1,430.99</td>\n",
       "      <td>-55%</td>\n",
       "      <td>NaN</td>\n",
       "      <td>VEVOR Slushy Machine, 30L Slushie Machine For ...</td>\n",
       "    </tr>\n",
       "    <tr>\n",
       "      <th>1959</th>\n",
       "      <td>NaN</td>\n",
       "      <td>NaN</td>\n",
       "      <td>NaN</td>\n",
       "      <td>NaN</td>\n",
       "      <td>$1,077.99</td>\n",
       "      <td>-56%</td>\n",
       "      <td>NaN</td>\n",
       "      <td>VEVOR Commercial Meatball Forming Machine, 280...</td>\n",
       "    </tr>\n",
       "    <tr>\n",
       "      <th>2849</th>\n",
       "      <td>NaN</td>\n",
       "      <td>NaN</td>\n",
       "      <td>NaN</td>\n",
       "      <td>NaN</td>\n",
       "      <td>$2,254.99</td>\n",
       "      <td>-55%</td>\n",
       "      <td>NaN</td>\n",
       "      <td>VEVOR Commercial Ice Cream Machine, 20-25L/H Y...</td>\n",
       "    </tr>\n",
       "    <tr>\n",
       "      <th>3206</th>\n",
       "      <td>NaN</td>\n",
       "      <td>NaN</td>\n",
       "      <td>NaN</td>\n",
       "      <td>NaN</td>\n",
       "      <td>$1,174.99</td>\n",
       "      <td>-56%</td>\n",
       "      <td>NaN</td>\n",
       "      <td>VEVOR 110V Frozen Yogurt Blending Machine 750W...</td>\n",
       "    </tr>\n",
       "    <tr>\n",
       "      <th>3258</th>\n",
       "      <td>NaN</td>\n",
       "      <td>NaN</td>\n",
       "      <td>NaN</td>\n",
       "      <td>NaN</td>\n",
       "      <td>$1,398.00</td>\n",
       "      <td>NaN</td>\n",
       "      <td>NaN</td>\n",
       "      <td>Bosch NGM5658UC 36 Inch Stainless 500 Series G...</td>\n",
       "    </tr>\n",
       "    <tr>\n",
       "      <th>3401</th>\n",
       "      <td>NaN</td>\n",
       "      <td>NaN</td>\n",
       "      <td>NaN</td>\n",
       "      <td>NaN</td>\n",
       "      <td>$2,399.99</td>\n",
       "      <td>-27%</td>\n",
       "      <td>NaN</td>\n",
       "      <td>BOSSCARE Full Body Zero Gravity 4D Massage Cha...</td>\n",
       "    </tr>\n",
       "    <tr>\n",
       "      <th>3415</th>\n",
       "      <td>NaN</td>\n",
       "      <td>NaN</td>\n",
       "      <td>NaN</td>\n",
       "      <td>NaN</td>\n",
       "      <td>$1,299.99</td>\n",
       "      <td>-57%</td>\n",
       "      <td>NaN</td>\n",
       "      <td>Artist Hand Massage Chair Full Body, SL Track ...</td>\n",
       "    </tr>\n",
       "    <tr>\n",
       "      <th>3973</th>\n",
       "      <td>NaN</td>\n",
       "      <td>NaN</td>\n",
       "      <td>NaN</td>\n",
       "      <td>NaN</td>\n",
       "      <td>$1,399.99</td>\n",
       "      <td>-30%</td>\n",
       "      <td>NaN</td>\n",
       "      <td>BOSSCARE 3D Full Body SL Track Massage Chair, ...</td>\n",
       "    </tr>\n",
       "    <tr>\n",
       "      <th>3975</th>\n",
       "      <td>NaN</td>\n",
       "      <td>NaN</td>\n",
       "      <td>NaN</td>\n",
       "      <td>NaN</td>\n",
       "      <td>$1,499.99</td>\n",
       "      <td>-32%</td>\n",
       "      <td>NaN</td>\n",
       "      <td>BOSSCARE 3D Full Body SL Track Massage Chair, ...</td>\n",
       "    </tr>\n",
       "    <tr>\n",
       "      <th>3976</th>\n",
       "      <td>NaN</td>\n",
       "      <td>NaN</td>\n",
       "      <td>NaN</td>\n",
       "      <td>NaN</td>\n",
       "      <td>$1,499.99</td>\n",
       "      <td>-32%</td>\n",
       "      <td>NaN</td>\n",
       "      <td>BOSSCARE 3D Full Body SL Track Massage Chair, ...</td>\n",
       "    </tr>\n",
       "    <tr>\n",
       "      <th>3977</th>\n",
       "      <td>NaN</td>\n",
       "      <td>NaN</td>\n",
       "      <td>NaN</td>\n",
       "      <td>NaN</td>\n",
       "      <td>$2,399.99</td>\n",
       "      <td>-27%</td>\n",
       "      <td>NaN</td>\n",
       "      <td>BOSSCARE Full Body Zero Gravity 4D Massage Cha...</td>\n",
       "    </tr>\n",
       "    <tr>\n",
       "      <th>3978</th>\n",
       "      <td>NaN</td>\n",
       "      <td>NaN</td>\n",
       "      <td>NaN</td>\n",
       "      <td>NaN</td>\n",
       "      <td>$1,299.99</td>\n",
       "      <td>-55%</td>\n",
       "      <td>NaN</td>\n",
       "      <td>Artist Hand Full Body Massage Chair - SL Track...</td>\n",
       "    </tr>\n",
       "    <tr>\n",
       "      <th>3979</th>\n",
       "      <td>NaN</td>\n",
       "      <td>NaN</td>\n",
       "      <td>NaN</td>\n",
       "      <td>NaN</td>\n",
       "      <td>$1,399.99</td>\n",
       "      <td>-30%</td>\n",
       "      <td>NaN</td>\n",
       "      <td>BOSSCARE 3D Full Body SL Track Massage Chair, ...</td>\n",
       "    </tr>\n",
       "  </tbody>\n",
       "</table>\n",
       "</div>"
      ],
      "text/plain": [
       "     goods_title_link_jump goods_title_link_jump_href rank_title rank_sub  \\\n",
       "1441                   NaN                        NaN        NaN      NaN   \n",
       "1959                   NaN                        NaN        NaN      NaN   \n",
       "2849                   NaN                        NaN        NaN      NaN   \n",
       "3206                   NaN                        NaN        NaN      NaN   \n",
       "3258                   NaN                        NaN        NaN      NaN   \n",
       "3401                   NaN                        NaN        NaN      NaN   \n",
       "3415                   NaN                        NaN        NaN      NaN   \n",
       "3973                   NaN                        NaN        NaN      NaN   \n",
       "3975                   NaN                        NaN        NaN      NaN   \n",
       "3976                   NaN                        NaN        NaN      NaN   \n",
       "3977                   NaN                        NaN        NaN      NaN   \n",
       "3978                   NaN                        NaN        NaN      NaN   \n",
       "3979                   NaN                        NaN        NaN      NaN   \n",
       "\n",
       "          price discount selling_proposition  \\\n",
       "1441  $1,430.99     -55%                 NaN   \n",
       "1959  $1,077.99     -56%                 NaN   \n",
       "2849  $2,254.99     -55%                 NaN   \n",
       "3206  $1,174.99     -56%                 NaN   \n",
       "3258  $1,398.00      NaN                 NaN   \n",
       "3401  $2,399.99     -27%                 NaN   \n",
       "3415  $1,299.99     -57%                 NaN   \n",
       "3973  $1,399.99     -30%                 NaN   \n",
       "3975  $1,499.99     -32%                 NaN   \n",
       "3976  $1,499.99     -32%                 NaN   \n",
       "3977  $2,399.99     -27%                 NaN   \n",
       "3978  $1,299.99     -55%                 NaN   \n",
       "3979  $1,399.99     -30%                 NaN   \n",
       "\n",
       "                                       goods_title_link  \n",
       "1441  VEVOR Slushy Machine, 30L Slushie Machine For ...  \n",
       "1959  VEVOR Commercial Meatball Forming Machine, 280...  \n",
       "2849  VEVOR Commercial Ice Cream Machine, 20-25L/H Y...  \n",
       "3206  VEVOR 110V Frozen Yogurt Blending Machine 750W...  \n",
       "3258  Bosch NGM5658UC 36 Inch Stainless 500 Series G...  \n",
       "3401  BOSSCARE Full Body Zero Gravity 4D Massage Cha...  \n",
       "3415  Artist Hand Massage Chair Full Body, SL Track ...  \n",
       "3973  BOSSCARE 3D Full Body SL Track Massage Chair, ...  \n",
       "3975  BOSSCARE 3D Full Body SL Track Massage Chair, ...  \n",
       "3976  BOSSCARE 3D Full Body SL Track Massage Chair, ...  \n",
       "3977  BOSSCARE Full Body Zero Gravity 4D Massage Cha...  \n",
       "3978  Artist Hand Full Body Massage Chair - SL Track...  \n",
       "3979  BOSSCARE 3D Full Body SL Track Massage Chair, ...  "
      ]
     },
     "execution_count": 22,
     "metadata": {},
     "output_type": "execute_result"
    }
   ],
   "source": [
    "df.loc[~df['price'].str.match(r'^\\$\\d+(\\.\\d{1,2})?$')]"
   ]
  },
  {
   "cell_type": "code",
   "execution_count": 23,
   "id": "415d29ee",
   "metadata": {},
   "outputs": [
    {
     "data": {
      "text/plain": [
       "(0, 8)"
      ]
     },
     "execution_count": 23,
     "metadata": {},
     "output_type": "execute_result"
    }
   ],
   "source": [
    "df['price'] = df['price'].str.replace(',', '').astype(str)\n",
    "df.loc[~df['price'].str.match(r'^\\$\\d+(\\.\\d{1,2})?$')].shape"
   ]
  },
  {
   "cell_type": "code",
   "execution_count": 24,
   "id": "0f0ab5b1",
   "metadata": {},
   "outputs": [],
   "source": [
    "df['price'] = df['price'].str.replace('$', '')\n",
    "df['price'] = df['price'].astype(float)"
   ]
  },
  {
   "cell_type": "code",
   "execution_count": 25,
   "id": "5329af79",
   "metadata": {},
   "outputs": [
    {
     "name": "stdout",
     "output_type": "stream",
     "text": [
      "<class 'pandas.core.frame.DataFrame'>\n",
      "RangeIndex: 3986 entries, 0 to 3985\n",
      "Data columns (total 8 columns):\n",
      " #   Column                      Non-Null Count  Dtype  \n",
      "---  ------                      --------------  -----  \n",
      " 0   goods_title_link_jump       40 non-null     object \n",
      " 1   goods_title_link_jump_href  40 non-null     object \n",
      " 2   rank_title                  559 non-null    object \n",
      " 3   rank_sub                    559 non-null    object \n",
      " 4   price                       3986 non-null   float64\n",
      " 5   discount                    2459 non-null   object \n",
      " 6   selling_proposition         1361 non-null   object \n",
      " 7   goods_title_link            3946 non-null   object \n",
      "dtypes: float64(1), object(7)\n",
      "memory usage: 249.3+ KB\n"
     ]
    }
   ],
   "source": [
    "df.info()"
   ]
  },
  {
   "cell_type": "markdown",
   "id": "3a490f9d",
   "metadata": {},
   "source": [
    "### `discount`\n",
    "Discount off the price"
   ]
  },
  {
   "cell_type": "code",
   "execution_count": 26,
   "id": "048ecc2d",
   "metadata": {},
   "outputs": [
    {
     "name": "stdout",
     "output_type": "stream",
     "text": [
      "<class 'pandas.core.series.Series'>\n",
      "RangeIndex: 3986 entries, 0 to 3985\n",
      "Series name: discount\n",
      "Non-Null Count  Dtype \n",
      "--------------  ----- \n",
      "2459 non-null   object\n",
      "dtypes: object(1)\n",
      "memory usage: 31.3+ KB\n"
     ]
    }
   ],
   "source": [
    "df['discount'].info()"
   ]
  },
  {
   "cell_type": "code",
   "execution_count": 27,
   "id": "64f890c3",
   "metadata": {},
   "outputs": [
    {
     "data": {
      "text/html": [
       "<div>\n",
       "<style scoped>\n",
       "    .dataframe tbody tr th:only-of-type {\n",
       "        vertical-align: middle;\n",
       "    }\n",
       "\n",
       "    .dataframe tbody tr th {\n",
       "        vertical-align: top;\n",
       "    }\n",
       "\n",
       "    .dataframe thead th {\n",
       "        text-align: right;\n",
       "    }\n",
       "</style>\n",
       "<table border=\"1\" class=\"dataframe\">\n",
       "  <thead>\n",
       "    <tr style=\"text-align: right;\">\n",
       "      <th></th>\n",
       "      <th>discount</th>\n",
       "    </tr>\n",
       "  </thead>\n",
       "  <tbody>\n",
       "    <tr>\n",
       "      <th>0</th>\n",
       "      <td>-22%</td>\n",
       "    </tr>\n",
       "    <tr>\n",
       "      <th>1</th>\n",
       "      <td>-20%</td>\n",
       "    </tr>\n",
       "    <tr>\n",
       "      <th>2</th>\n",
       "      <td>NaN</td>\n",
       "    </tr>\n",
       "    <tr>\n",
       "      <th>3</th>\n",
       "      <td>-72%</td>\n",
       "    </tr>\n",
       "    <tr>\n",
       "      <th>4</th>\n",
       "      <td>-40%</td>\n",
       "    </tr>\n",
       "    <tr>\n",
       "      <th>5</th>\n",
       "      <td>NaN</td>\n",
       "    </tr>\n",
       "    <tr>\n",
       "      <th>6</th>\n",
       "      <td>NaN</td>\n",
       "    </tr>\n",
       "    <tr>\n",
       "      <th>7</th>\n",
       "      <td>NaN</td>\n",
       "    </tr>\n",
       "    <tr>\n",
       "      <th>8</th>\n",
       "      <td>-41%</td>\n",
       "    </tr>\n",
       "    <tr>\n",
       "      <th>9</th>\n",
       "      <td>-5%</td>\n",
       "    </tr>\n",
       "  </tbody>\n",
       "</table>\n",
       "</div>"
      ],
      "text/plain": [
       "  discount\n",
       "0     -22%\n",
       "1     -20%\n",
       "2      NaN\n",
       "3     -72%\n",
       "4     -40%\n",
       "5      NaN\n",
       "6      NaN\n",
       "7      NaN\n",
       "8     -41%\n",
       "9      -5%"
      ]
     },
     "execution_count": 27,
     "metadata": {},
     "output_type": "execute_result"
    }
   ],
   "source": [
    "df[['discount']].head(10)"
   ]
  },
  {
   "cell_type": "code",
   "execution_count": 28,
   "id": "973d0c5d",
   "metadata": {},
   "outputs": [
    {
     "data": {
      "text/html": [
       "<div>\n",
       "<style scoped>\n",
       "    .dataframe tbody tr th:only-of-type {\n",
       "        vertical-align: middle;\n",
       "    }\n",
       "\n",
       "    .dataframe tbody tr th {\n",
       "        vertical-align: top;\n",
       "    }\n",
       "\n",
       "    .dataframe thead th {\n",
       "        text-align: right;\n",
       "    }\n",
       "</style>\n",
       "<table border=\"1\" class=\"dataframe\">\n",
       "  <thead>\n",
       "    <tr style=\"text-align: right;\">\n",
       "      <th></th>\n",
       "      <th>goods_title_link_jump</th>\n",
       "      <th>goods_title_link_jump_href</th>\n",
       "      <th>rank_title</th>\n",
       "      <th>rank_sub</th>\n",
       "      <th>price</th>\n",
       "      <th>discount</th>\n",
       "      <th>selling_proposition</th>\n",
       "      <th>goods_title_link</th>\n",
       "    </tr>\n",
       "  </thead>\n",
       "  <tbody>\n",
       "    <tr>\n",
       "      <th>0</th>\n",
       "      <td>1pc Rechargeable Deep Tissue Muscle Handheld M...</td>\n",
       "      <td>https://us.shein.com/1pc-Rechargeable-Deep-Tis...</td>\n",
       "      <td>1</td>\n",
       "      <td>in Give Gifts</td>\n",
       "      <td>2.03</td>\n",
       "      <td>0.22</td>\n",
       "      <td>NaN</td>\n",
       "      <td>NaN</td>\n",
       "    </tr>\n",
       "    <tr>\n",
       "      <th>1</th>\n",
       "      <td>1pc Portable Hanging Neck Fan</td>\n",
       "      <td>https://us.shein.com/1pc-Portable-Hanging-Neck...</td>\n",
       "      <td>4</td>\n",
       "      <td>in Top rated in Portable Fans</td>\n",
       "      <td>6.48</td>\n",
       "      <td>0.20</td>\n",
       "      <td>NaN</td>\n",
       "      <td>NaN</td>\n",
       "    </tr>\n",
       "    <tr>\n",
       "      <th>2</th>\n",
       "      <td>1pc Pink Colored Curved Eyelash Curler False E...</td>\n",
       "      <td>https://us.shein.com/1pc-Pink-Colored-Curved-E...</td>\n",
       "      <td>NaN</td>\n",
       "      <td>NaN</td>\n",
       "      <td>1.80</td>\n",
       "      <td>NaN</td>\n",
       "      <td>400+ sold recently</td>\n",
       "      <td>NaN</td>\n",
       "    </tr>\n",
       "    <tr>\n",
       "      <th>3</th>\n",
       "      <td>1 Mini Portable Handheld Fan With 2 Aa Batteri...</td>\n",
       "      <td>https://us.shein.com/1-Mini-Portable-Handheld-...</td>\n",
       "      <td>NaN</td>\n",
       "      <td>NaN</td>\n",
       "      <td>0.88</td>\n",
       "      <td>0.72</td>\n",
       "      <td>5.6k+ sold recently</td>\n",
       "      <td>NaN</td>\n",
       "    </tr>\n",
       "    <tr>\n",
       "      <th>4</th>\n",
       "      <td>Wit Water Flosser,Portable Oral Irrigator With...</td>\n",
       "      <td>https://us.shein.com/Wit-Water-Flosser-Portabl...</td>\n",
       "      <td>6</td>\n",
       "      <td>in Oral Irrigators</td>\n",
       "      <td>12.06</td>\n",
       "      <td>0.40</td>\n",
       "      <td>NaN</td>\n",
       "      <td>NaN</td>\n",
       "    </tr>\n",
       "    <tr>\n",
       "      <th>5</th>\n",
       "      <td>1pc Ice Pop Mold, Plastic Ice Cream Mold, Froz...</td>\n",
       "      <td>https://us.shein.com/1pc-Ice-Pop-Mold-Plastic-...</td>\n",
       "      <td>10</td>\n",
       "      <td>in Refrigerators &amp; Freezers</td>\n",
       "      <td>2.70</td>\n",
       "      <td>NaN</td>\n",
       "      <td>NaN</td>\n",
       "      <td>NaN</td>\n",
       "    </tr>\n",
       "    <tr>\n",
       "      <th>6</th>\n",
       "      <td>Mini Pocket Bluetooth Thermal Printer, Portabl...</td>\n",
       "      <td>https://us.shein.com/Mini-Pocket-Bluetooth-The...</td>\n",
       "      <td>8</td>\n",
       "      <td>in Other Household Appliances</td>\n",
       "      <td>3.50</td>\n",
       "      <td>NaN</td>\n",
       "      <td>NaN</td>\n",
       "      <td>NaN</td>\n",
       "    </tr>\n",
       "    <tr>\n",
       "      <th>7</th>\n",
       "      <td>1 PC 400ML Classic Ultra-Silent Air Humidifier...</td>\n",
       "      <td>https://us.shein.com/1-PC-400ML-Classic-Ultra-...</td>\n",
       "      <td>NaN</td>\n",
       "      <td>NaN</td>\n",
       "      <td>4.90</td>\n",
       "      <td>NaN</td>\n",
       "      <td>NaN</td>\n",
       "      <td>NaN</td>\n",
       "    </tr>\n",
       "    <tr>\n",
       "      <th>8</th>\n",
       "      <td>6 Modes Multi-Functional Sonic Electric Toothb...</td>\n",
       "      <td>https://us.shein.com/6-Modes-Multi-Functional-...</td>\n",
       "      <td>6</td>\n",
       "      <td>in Oral Care Appliances</td>\n",
       "      <td>4.28</td>\n",
       "      <td>0.41</td>\n",
       "      <td>NaN</td>\n",
       "      <td>NaN</td>\n",
       "    </tr>\n",
       "    <tr>\n",
       "      <th>9</th>\n",
       "      <td>1pc AA Battery Operated Portable Handheld Mini...</td>\n",
       "      <td>https://us.shein.com/1pc-AA-Battery-Operated-P...</td>\n",
       "      <td>9</td>\n",
       "      <td>in Household Appliances</td>\n",
       "      <td>2.76</td>\n",
       "      <td>0.05</td>\n",
       "      <td>NaN</td>\n",
       "      <td>NaN</td>\n",
       "    </tr>\n",
       "  </tbody>\n",
       "</table>\n",
       "</div>"
      ],
      "text/plain": [
       "                               goods_title_link_jump  \\\n",
       "0  1pc Rechargeable Deep Tissue Muscle Handheld M...   \n",
       "1                      1pc Portable Hanging Neck Fan   \n",
       "2  1pc Pink Colored Curved Eyelash Curler False E...   \n",
       "3  1 Mini Portable Handheld Fan With 2 Aa Batteri...   \n",
       "4  Wit Water Flosser,Portable Oral Irrigator With...   \n",
       "5  1pc Ice Pop Mold, Plastic Ice Cream Mold, Froz...   \n",
       "6  Mini Pocket Bluetooth Thermal Printer, Portabl...   \n",
       "7  1 PC 400ML Classic Ultra-Silent Air Humidifier...   \n",
       "8  6 Modes Multi-Functional Sonic Electric Toothb...   \n",
       "9  1pc AA Battery Operated Portable Handheld Mini...   \n",
       "\n",
       "                          goods_title_link_jump_href rank_title  \\\n",
       "0  https://us.shein.com/1pc-Rechargeable-Deep-Tis...          1   \n",
       "1  https://us.shein.com/1pc-Portable-Hanging-Neck...          4   \n",
       "2  https://us.shein.com/1pc-Pink-Colored-Curved-E...        NaN   \n",
       "3  https://us.shein.com/1-Mini-Portable-Handheld-...        NaN   \n",
       "4  https://us.shein.com/Wit-Water-Flosser-Portabl...          6   \n",
       "5  https://us.shein.com/1pc-Ice-Pop-Mold-Plastic-...         10   \n",
       "6  https://us.shein.com/Mini-Pocket-Bluetooth-The...          8   \n",
       "7  https://us.shein.com/1-PC-400ML-Classic-Ultra-...        NaN   \n",
       "8  https://us.shein.com/6-Modes-Multi-Functional-...          6   \n",
       "9  https://us.shein.com/1pc-AA-Battery-Operated-P...          9   \n",
       "\n",
       "                        rank_sub  price  discount  selling_proposition  \\\n",
       "0                  in Give Gifts   2.03      0.22                  NaN   \n",
       "1  in Top rated in Portable Fans   6.48      0.20                  NaN   \n",
       "2                            NaN   1.80       NaN   400+ sold recently   \n",
       "3                            NaN   0.88      0.72  5.6k+ sold recently   \n",
       "4             in Oral Irrigators  12.06      0.40                  NaN   \n",
       "5    in Refrigerators & Freezers   2.70       NaN                  NaN   \n",
       "6  in Other Household Appliances   3.50       NaN                  NaN   \n",
       "7                            NaN   4.90       NaN                  NaN   \n",
       "8        in Oral Care Appliances   4.28      0.41                  NaN   \n",
       "9        in Household Appliances   2.76      0.05                  NaN   \n",
       "\n",
       "  goods_title_link  \n",
       "0              NaN  \n",
       "1              NaN  \n",
       "2              NaN  \n",
       "3              NaN  \n",
       "4              NaN  \n",
       "5              NaN  \n",
       "6              NaN  \n",
       "7              NaN  \n",
       "8              NaN  \n",
       "9              NaN  "
      ]
     },
     "execution_count": 28,
     "metadata": {},
     "output_type": "execute_result"
    }
   ],
   "source": [
    "df['discount'] = df['discount'].str.replace(r'[^0-9]', '', regex=True).astype(float)\n",
    "df['discount'] = df['discount'] / 100\n",
    "df.head(10)"
   ]
  },
  {
   "cell_type": "markdown",
   "id": "f18e24e4",
   "metadata": {},
   "source": [
    "### `selling_proposition`\n",
    "how many sold recently"
   ]
  },
  {
   "cell_type": "code",
   "execution_count": 29,
   "id": "71968192",
   "metadata": {},
   "outputs": [
    {
     "name": "stdout",
     "output_type": "stream",
     "text": [
      "<class 'pandas.core.series.Series'>\n",
      "RangeIndex: 3986 entries, 0 to 3985\n",
      "Series name: selling_proposition\n",
      "Non-Null Count  Dtype \n",
      "--------------  ----- \n",
      "1361 non-null   object\n",
      "dtypes: object(1)\n",
      "memory usage: 31.3+ KB\n"
     ]
    }
   ],
   "source": [
    "df['selling_proposition'].info()"
   ]
  },
  {
   "cell_type": "code",
   "execution_count": 30,
   "id": "efdc6c18",
   "metadata": {},
   "outputs": [
    {
     "data": {
      "text/plain": [
       "array([nan, '400+ sold recently', '5.6k+ sold recently',\n",
       "       '50+ sold recently', '30+ sold recently', '60+ sold recently',\n",
       "       '100+ sold recently', '200+ sold recently', '8.7k+ sold recently',\n",
       "       '10+ sold recently', '1.6k+ sold recently', '20+ sold recently',\n",
       "       '10k+ sold recently', '80+ sold recently', '300+ sold recently',\n",
       "       '900+ sold recently', '600+ sold recently', '70+ sold recently',\n",
       "       '40+ sold recently', '1.8k+ sold recently', '5.0k+ sold recently',\n",
       "       '1.1k+ sold recently', '2.0k+ sold recently', '500+ sold recently',\n",
       "       '90+ sold recently', '800+ sold recently', '2.2k+ sold recently',\n",
       "       '1.5k+ sold recently', '1.2k+ sold recently',\n",
       "       '1.3k+ sold recently', '3.4k+ sold recently', '700+ sold recently',\n",
       "       '2.4k+ sold recently', '6.3k+ sold recently',\n",
       "       '2.6k+ sold recently', '3.8k+ sold recently',\n",
       "       '2.1k+ sold recently', '1.0k+ sold recently',\n",
       "       '4.7k+ sold recently', '2.9k+ sold recently',\n",
       "       '1.9k+ sold recently', '5.4k+ sold recently',\n",
       "       '3.2k+ sold recently', '7.8k+ sold recently',\n",
       "       '1.4k+ sold recently', '7.0k+ sold recently',\n",
       "       '5.1k+ sold recently', '6.9k+ sold recently',\n",
       "       '1.7k+ sold recently', '2.3k+ sold recently',\n",
       "       '7.7k+ sold recently', '4.5k+ sold recently',\n",
       "       '2.5k+ sold recently', '2.7k+ sold recently',\n",
       "       '5.2k+ sold recently', '4.3k+ sold recently',\n",
       "       '4.8k+ sold recently', '4.2k+ sold recently',\n",
       "       '4.4k+ sold recently', '3.1k+ sold recently',\n",
       "       '2.8k+ sold recently', '5.8k+ sold recently',\n",
       "       '4.0k+ sold recently', '3.7k+ sold recently',\n",
       "       '3.5k+ sold recently'], dtype=object)"
      ]
     },
     "execution_count": 30,
     "metadata": {},
     "output_type": "execute_result"
    }
   ],
   "source": [
    "df['selling_proposition'].unique()"
   ]
  },
  {
   "cell_type": "code",
   "execution_count": 31,
   "id": "37a382f4",
   "metadata": {},
   "outputs": [
    {
     "data": {
      "text/html": [
       "<div>\n",
       "<style scoped>\n",
       "    .dataframe tbody tr th:only-of-type {\n",
       "        vertical-align: middle;\n",
       "    }\n",
       "\n",
       "    .dataframe tbody tr th {\n",
       "        vertical-align: top;\n",
       "    }\n",
       "\n",
       "    .dataframe thead th {\n",
       "        text-align: right;\n",
       "    }\n",
       "</style>\n",
       "<table border=\"1\" class=\"dataframe\">\n",
       "  <thead>\n",
       "    <tr style=\"text-align: right;\">\n",
       "      <th></th>\n",
       "      <th>selling_proposition</th>\n",
       "      <th>sold_number</th>\n",
       "    </tr>\n",
       "  </thead>\n",
       "  <tbody>\n",
       "    <tr>\n",
       "      <th>3491</th>\n",
       "      <td>nan</td>\n",
       "      <td>NaN</td>\n",
       "    </tr>\n",
       "    <tr>\n",
       "      <th>1151</th>\n",
       "      <td>nan</td>\n",
       "      <td>NaN</td>\n",
       "    </tr>\n",
       "    <tr>\n",
       "      <th>511</th>\n",
       "      <td>nan</td>\n",
       "      <td>NaN</td>\n",
       "    </tr>\n",
       "    <tr>\n",
       "      <th>1796</th>\n",
       "      <td>nan</td>\n",
       "      <td>NaN</td>\n",
       "    </tr>\n",
       "    <tr>\n",
       "      <th>569</th>\n",
       "      <td>80+ sold recently</td>\n",
       "      <td>80.0</td>\n",
       "    </tr>\n",
       "    <tr>\n",
       "      <th>3161</th>\n",
       "      <td>nan</td>\n",
       "      <td>NaN</td>\n",
       "    </tr>\n",
       "    <tr>\n",
       "      <th>1816</th>\n",
       "      <td>nan</td>\n",
       "      <td>NaN</td>\n",
       "    </tr>\n",
       "    <tr>\n",
       "      <th>1910</th>\n",
       "      <td>20+ sold recently</td>\n",
       "      <td>20.0</td>\n",
       "    </tr>\n",
       "    <tr>\n",
       "      <th>375</th>\n",
       "      <td>nan</td>\n",
       "      <td>NaN</td>\n",
       "    </tr>\n",
       "    <tr>\n",
       "      <th>273</th>\n",
       "      <td>100+ sold recently</td>\n",
       "      <td>100.0</td>\n",
       "    </tr>\n",
       "    <tr>\n",
       "      <th>2990</th>\n",
       "      <td>nan</td>\n",
       "      <td>NaN</td>\n",
       "    </tr>\n",
       "    <tr>\n",
       "      <th>1315</th>\n",
       "      <td>50+ sold recently</td>\n",
       "      <td>50.0</td>\n",
       "    </tr>\n",
       "    <tr>\n",
       "      <th>3185</th>\n",
       "      <td>nan</td>\n",
       "      <td>NaN</td>\n",
       "    </tr>\n",
       "    <tr>\n",
       "      <th>1274</th>\n",
       "      <td>10+ sold recently</td>\n",
       "      <td>10.0</td>\n",
       "    </tr>\n",
       "    <tr>\n",
       "      <th>3314</th>\n",
       "      <td>nan</td>\n",
       "      <td>NaN</td>\n",
       "    </tr>\n",
       "    <tr>\n",
       "      <th>2184</th>\n",
       "      <td>nan</td>\n",
       "      <td>NaN</td>\n",
       "    </tr>\n",
       "    <tr>\n",
       "      <th>3522</th>\n",
       "      <td>nan</td>\n",
       "      <td>NaN</td>\n",
       "    </tr>\n",
       "    <tr>\n",
       "      <th>2302</th>\n",
       "      <td>nan</td>\n",
       "      <td>NaN</td>\n",
       "    </tr>\n",
       "    <tr>\n",
       "      <th>2642</th>\n",
       "      <td>10+ sold recently</td>\n",
       "      <td>10.0</td>\n",
       "    </tr>\n",
       "    <tr>\n",
       "      <th>3731</th>\n",
       "      <td>nan</td>\n",
       "      <td>NaN</td>\n",
       "    </tr>\n",
       "  </tbody>\n",
       "</table>\n",
       "</div>"
      ],
      "text/plain": [
       "     selling_proposition  sold_number\n",
       "3491                 nan          NaN\n",
       "1151                 nan          NaN\n",
       "511                  nan          NaN\n",
       "1796                 nan          NaN\n",
       "569    80+ sold recently         80.0\n",
       "3161                 nan          NaN\n",
       "1816                 nan          NaN\n",
       "1910   20+ sold recently         20.0\n",
       "375                  nan          NaN\n",
       "273   100+ sold recently        100.0\n",
       "2990                 nan          NaN\n",
       "1315   50+ sold recently         50.0\n",
       "3185                 nan          NaN\n",
       "1274   10+ sold recently         10.0\n",
       "3314                 nan          NaN\n",
       "2184                 nan          NaN\n",
       "3522                 nan          NaN\n",
       "2302                 nan          NaN\n",
       "2642   10+ sold recently         10.0\n",
       "3731                 nan          NaN"
      ]
     },
     "execution_count": 31,
     "metadata": {},
     "output_type": "execute_result"
    }
   ],
   "source": [
    "df['selling_proposition'] = df['selling_proposition'].astype(str).str.strip()\n",
    "df['sold_number'] = df['selling_proposition'].str.extract(r'(\\d+\\.?\\d*)')\n",
    "df['sold_number'] = df['sold_number'].astype(float)\n",
    "df.loc[df['selling_proposition'].str.contains('k', case=False, na=False), 'sold_number'] *= 1000\n",
    "\n",
    "df[['selling_proposition', 'sold_number']].sample(20)"
   ]
  },
  {
   "cell_type": "markdown",
   "id": "56307c70",
   "metadata": {},
   "source": [
    "### `goods_title_link`\n",
    "Product title (2)"
   ]
  },
  {
   "cell_type": "code",
   "execution_count": 32,
   "id": "4af84739",
   "metadata": {},
   "outputs": [
    {
     "name": "stdout",
     "output_type": "stream",
     "text": [
      "<class 'pandas.core.series.Series'>\n",
      "RangeIndex: 3986 entries, 0 to 3985\n",
      "Series name: goods_title_link\n",
      "Non-Null Count  Dtype \n",
      "--------------  ----- \n",
      "3946 non-null   object\n",
      "dtypes: object(1)\n",
      "memory usage: 31.3+ KB\n"
     ]
    }
   ],
   "source": [
    "df['goods_title_link'].info()"
   ]
  },
  {
   "cell_type": "code",
   "execution_count": 33,
   "id": "6ec80a42",
   "metadata": {},
   "outputs": [
    {
     "data": {
      "text/html": [
       "<div>\n",
       "<style scoped>\n",
       "    .dataframe tbody tr th:only-of-type {\n",
       "        vertical-align: middle;\n",
       "    }\n",
       "\n",
       "    .dataframe tbody tr th {\n",
       "        vertical-align: top;\n",
       "    }\n",
       "\n",
       "    .dataframe thead th {\n",
       "        text-align: right;\n",
       "    }\n",
       "</style>\n",
       "<table border=\"1\" class=\"dataframe\">\n",
       "  <thead>\n",
       "    <tr style=\"text-align: right;\">\n",
       "      <th></th>\n",
       "      <th>goods_title_link_jump</th>\n",
       "      <th>goods_title_link_jump_href</th>\n",
       "      <th>rank_title</th>\n",
       "      <th>rank_sub</th>\n",
       "      <th>price</th>\n",
       "      <th>discount</th>\n",
       "      <th>selling_proposition</th>\n",
       "      <th>goods_title_link</th>\n",
       "      <th>sold_number</th>\n",
       "    </tr>\n",
       "  </thead>\n",
       "  <tbody>\n",
       "    <tr>\n",
       "      <th>0</th>\n",
       "      <td>1pc Rechargeable Deep Tissue Muscle Handheld M...</td>\n",
       "      <td>https://us.shein.com/1pc-Rechargeable-Deep-Tis...</td>\n",
       "      <td>1</td>\n",
       "      <td>in Give Gifts</td>\n",
       "      <td>2.03</td>\n",
       "      <td>0.22</td>\n",
       "      <td>nan</td>\n",
       "      <td>NaN</td>\n",
       "      <td>NaN</td>\n",
       "    </tr>\n",
       "    <tr>\n",
       "      <th>1</th>\n",
       "      <td>1pc Portable Hanging Neck Fan</td>\n",
       "      <td>https://us.shein.com/1pc-Portable-Hanging-Neck...</td>\n",
       "      <td>4</td>\n",
       "      <td>in Top rated in Portable Fans</td>\n",
       "      <td>6.48</td>\n",
       "      <td>0.20</td>\n",
       "      <td>nan</td>\n",
       "      <td>NaN</td>\n",
       "      <td>NaN</td>\n",
       "    </tr>\n",
       "    <tr>\n",
       "      <th>2</th>\n",
       "      <td>1pc Pink Colored Curved Eyelash Curler False E...</td>\n",
       "      <td>https://us.shein.com/1pc-Pink-Colored-Curved-E...</td>\n",
       "      <td>NaN</td>\n",
       "      <td>NaN</td>\n",
       "      <td>1.80</td>\n",
       "      <td>NaN</td>\n",
       "      <td>400+ sold recently</td>\n",
       "      <td>NaN</td>\n",
       "      <td>400.0</td>\n",
       "    </tr>\n",
       "    <tr>\n",
       "      <th>3</th>\n",
       "      <td>1 Mini Portable Handheld Fan With 2 Aa Batteri...</td>\n",
       "      <td>https://us.shein.com/1-Mini-Portable-Handheld-...</td>\n",
       "      <td>NaN</td>\n",
       "      <td>NaN</td>\n",
       "      <td>0.88</td>\n",
       "      <td>0.72</td>\n",
       "      <td>5.6k+ sold recently</td>\n",
       "      <td>NaN</td>\n",
       "      <td>5600.0</td>\n",
       "    </tr>\n",
       "    <tr>\n",
       "      <th>4</th>\n",
       "      <td>Wit Water Flosser,Portable Oral Irrigator With...</td>\n",
       "      <td>https://us.shein.com/Wit-Water-Flosser-Portabl...</td>\n",
       "      <td>6</td>\n",
       "      <td>in Oral Irrigators</td>\n",
       "      <td>12.06</td>\n",
       "      <td>0.40</td>\n",
       "      <td>nan</td>\n",
       "      <td>NaN</td>\n",
       "      <td>NaN</td>\n",
       "    </tr>\n",
       "  </tbody>\n",
       "</table>\n",
       "</div>"
      ],
      "text/plain": [
       "                               goods_title_link_jump  \\\n",
       "0  1pc Rechargeable Deep Tissue Muscle Handheld M...   \n",
       "1                      1pc Portable Hanging Neck Fan   \n",
       "2  1pc Pink Colored Curved Eyelash Curler False E...   \n",
       "3  1 Mini Portable Handheld Fan With 2 Aa Batteri...   \n",
       "4  Wit Water Flosser,Portable Oral Irrigator With...   \n",
       "\n",
       "                          goods_title_link_jump_href rank_title  \\\n",
       "0  https://us.shein.com/1pc-Rechargeable-Deep-Tis...          1   \n",
       "1  https://us.shein.com/1pc-Portable-Hanging-Neck...          4   \n",
       "2  https://us.shein.com/1pc-Pink-Colored-Curved-E...        NaN   \n",
       "3  https://us.shein.com/1-Mini-Portable-Handheld-...        NaN   \n",
       "4  https://us.shein.com/Wit-Water-Flosser-Portabl...          6   \n",
       "\n",
       "                        rank_sub  price  discount  selling_proposition  \\\n",
       "0                  in Give Gifts   2.03      0.22                  nan   \n",
       "1  in Top rated in Portable Fans   6.48      0.20                  nan   \n",
       "2                            NaN   1.80       NaN   400+ sold recently   \n",
       "3                            NaN   0.88      0.72  5.6k+ sold recently   \n",
       "4             in Oral Irrigators  12.06      0.40                  nan   \n",
       "\n",
       "  goods_title_link  sold_number  \n",
       "0              NaN          NaN  \n",
       "1              NaN          NaN  \n",
       "2              NaN        400.0  \n",
       "3              NaN       5600.0  \n",
       "4              NaN          NaN  "
      ]
     },
     "execution_count": 33,
     "metadata": {},
     "output_type": "execute_result"
    }
   ],
   "source": [
    "df['goods_title_link'] = df['goods_title_link'].str.replace(r'\\s+', ' ', regex=True)\n",
    "df.head()"
   ]
  },
  {
   "cell_type": "markdown",
   "id": "5bf86d3e",
   "metadata": {},
   "source": [
    "### Merge Product Title"
   ]
  },
  {
   "cell_type": "code",
   "execution_count": 34,
   "id": "dfa54556",
   "metadata": {},
   "outputs": [
    {
     "data": {
      "text/html": [
       "<div>\n",
       "<style scoped>\n",
       "    .dataframe tbody tr th:only-of-type {\n",
       "        vertical-align: middle;\n",
       "    }\n",
       "\n",
       "    .dataframe tbody tr th {\n",
       "        vertical-align: top;\n",
       "    }\n",
       "\n",
       "    .dataframe thead th {\n",
       "        text-align: right;\n",
       "    }\n",
       "</style>\n",
       "<table border=\"1\" class=\"dataframe\">\n",
       "  <thead>\n",
       "    <tr style=\"text-align: right;\">\n",
       "      <th></th>\n",
       "      <th>goods_title_link_jump</th>\n",
       "      <th>goods_title_link_jump_href</th>\n",
       "      <th>rank_title</th>\n",
       "      <th>rank_sub</th>\n",
       "      <th>price</th>\n",
       "      <th>discount</th>\n",
       "      <th>selling_proposition</th>\n",
       "      <th>goods_title_link</th>\n",
       "      <th>sold_number</th>\n",
       "      <th>product_name</th>\n",
       "    </tr>\n",
       "  </thead>\n",
       "  <tbody>\n",
       "    <tr>\n",
       "      <th>0</th>\n",
       "      <td>1pc Rechargeable Deep Tissue Muscle Handheld M...</td>\n",
       "      <td>https://us.shein.com/1pc-Rechargeable-Deep-Tis...</td>\n",
       "      <td>1</td>\n",
       "      <td>in Give Gifts</td>\n",
       "      <td>2.03</td>\n",
       "      <td>0.22</td>\n",
       "      <td>nan</td>\n",
       "      <td>NaN</td>\n",
       "      <td>NaN</td>\n",
       "      <td>1pc Rechargeable Deep Tissue Muscle Handheld M...</td>\n",
       "    </tr>\n",
       "    <tr>\n",
       "      <th>1</th>\n",
       "      <td>1pc Portable Hanging Neck Fan</td>\n",
       "      <td>https://us.shein.com/1pc-Portable-Hanging-Neck...</td>\n",
       "      <td>4</td>\n",
       "      <td>in Top rated in Portable Fans</td>\n",
       "      <td>6.48</td>\n",
       "      <td>0.20</td>\n",
       "      <td>nan</td>\n",
       "      <td>NaN</td>\n",
       "      <td>NaN</td>\n",
       "      <td>1pc Portable Hanging Neck Fan</td>\n",
       "    </tr>\n",
       "    <tr>\n",
       "      <th>2</th>\n",
       "      <td>1pc Pink Colored Curved Eyelash Curler False E...</td>\n",
       "      <td>https://us.shein.com/1pc-Pink-Colored-Curved-E...</td>\n",
       "      <td>NaN</td>\n",
       "      <td>NaN</td>\n",
       "      <td>1.80</td>\n",
       "      <td>NaN</td>\n",
       "      <td>400+ sold recently</td>\n",
       "      <td>NaN</td>\n",
       "      <td>400.0</td>\n",
       "      <td>1pc Pink Colored Curved Eyelash Curler False E...</td>\n",
       "    </tr>\n",
       "    <tr>\n",
       "      <th>3</th>\n",
       "      <td>1 Mini Portable Handheld Fan With 2 Aa Batteri...</td>\n",
       "      <td>https://us.shein.com/1-Mini-Portable-Handheld-...</td>\n",
       "      <td>NaN</td>\n",
       "      <td>NaN</td>\n",
       "      <td>0.88</td>\n",
       "      <td>0.72</td>\n",
       "      <td>5.6k+ sold recently</td>\n",
       "      <td>NaN</td>\n",
       "      <td>5600.0</td>\n",
       "      <td>1 Mini Portable Handheld Fan With 2 Aa Batteri...</td>\n",
       "    </tr>\n",
       "    <tr>\n",
       "      <th>4</th>\n",
       "      <td>Wit Water Flosser,Portable Oral Irrigator With...</td>\n",
       "      <td>https://us.shein.com/Wit-Water-Flosser-Portabl...</td>\n",
       "      <td>6</td>\n",
       "      <td>in Oral Irrigators</td>\n",
       "      <td>12.06</td>\n",
       "      <td>0.40</td>\n",
       "      <td>nan</td>\n",
       "      <td>NaN</td>\n",
       "      <td>NaN</td>\n",
       "      <td>Wit Water Flosser,Portable Oral Irrigator With...</td>\n",
       "    </tr>\n",
       "  </tbody>\n",
       "</table>\n",
       "</div>"
      ],
      "text/plain": [
       "                               goods_title_link_jump  \\\n",
       "0  1pc Rechargeable Deep Tissue Muscle Handheld M...   \n",
       "1                      1pc Portable Hanging Neck Fan   \n",
       "2  1pc Pink Colored Curved Eyelash Curler False E...   \n",
       "3  1 Mini Portable Handheld Fan With 2 Aa Batteri...   \n",
       "4  Wit Water Flosser,Portable Oral Irrigator With...   \n",
       "\n",
       "                          goods_title_link_jump_href rank_title  \\\n",
       "0  https://us.shein.com/1pc-Rechargeable-Deep-Tis...          1   \n",
       "1  https://us.shein.com/1pc-Portable-Hanging-Neck...          4   \n",
       "2  https://us.shein.com/1pc-Pink-Colored-Curved-E...        NaN   \n",
       "3  https://us.shein.com/1-Mini-Portable-Handheld-...        NaN   \n",
       "4  https://us.shein.com/Wit-Water-Flosser-Portabl...          6   \n",
       "\n",
       "                        rank_sub  price  discount  selling_proposition  \\\n",
       "0                  in Give Gifts   2.03      0.22                  nan   \n",
       "1  in Top rated in Portable Fans   6.48      0.20                  nan   \n",
       "2                            NaN   1.80       NaN   400+ sold recently   \n",
       "3                            NaN   0.88      0.72  5.6k+ sold recently   \n",
       "4             in Oral Irrigators  12.06      0.40                  nan   \n",
       "\n",
       "  goods_title_link  sold_number  \\\n",
       "0              NaN          NaN   \n",
       "1              NaN          NaN   \n",
       "2              NaN        400.0   \n",
       "3              NaN       5600.0   \n",
       "4              NaN          NaN   \n",
       "\n",
       "                                        product_name  \n",
       "0  1pc Rechargeable Deep Tissue Muscle Handheld M...  \n",
       "1                      1pc Portable Hanging Neck Fan  \n",
       "2  1pc Pink Colored Curved Eyelash Curler False E...  \n",
       "3  1 Mini Portable Handheld Fan With 2 Aa Batteri...  \n",
       "4  Wit Water Flosser,Portable Oral Irrigator With...  "
      ]
     },
     "execution_count": 34,
     "metadata": {},
     "output_type": "execute_result"
    }
   ],
   "source": [
    "df['product_name'] = df['goods_title_link_jump'].fillna(df['goods_title_link'])\n",
    "df.head()"
   ]
  },
  {
   "cell_type": "markdown",
   "id": "f93f813a",
   "metadata": {},
   "source": [
    "## Restructured"
   ]
  },
  {
   "cell_type": "code",
   "execution_count": 35,
   "id": "ad062d63",
   "metadata": {},
   "outputs": [
    {
     "data": {
      "text/plain": [
       "Index(['goods_title_link_jump', 'product_link', 'rank_num', 'rank_subcategory',\n",
       "       'price', 'discount', 'selling_proposition', 'goods_title_link',\n",
       "       'sold_number', 'product_name'],\n",
       "      dtype='object')"
      ]
     },
     "execution_count": 35,
     "metadata": {},
     "output_type": "execute_result"
    }
   ],
   "source": [
    "df.rename(columns={\n",
    "    'goods_title_link_jump_href': 'product_link',\n",
    "    'rank_title': 'rank_num',\n",
    "    'rank_sub': 'rank_subcategory'\n",
    "}, inplace=True)\n",
    "\n",
    "df.columns"
   ]
  },
  {
   "cell_type": "code",
   "execution_count": 36,
   "id": "9a10de72",
   "metadata": {},
   "outputs": [
    {
     "data": {
      "text/html": [
       "<div>\n",
       "<style scoped>\n",
       "    .dataframe tbody tr th:only-of-type {\n",
       "        vertical-align: middle;\n",
       "    }\n",
       "\n",
       "    .dataframe tbody tr th {\n",
       "        vertical-align: top;\n",
       "    }\n",
       "\n",
       "    .dataframe thead th {\n",
       "        text-align: right;\n",
       "    }\n",
       "</style>\n",
       "<table border=\"1\" class=\"dataframe\">\n",
       "  <thead>\n",
       "    <tr style=\"text-align: right;\">\n",
       "      <th></th>\n",
       "      <th>product_name</th>\n",
       "      <th>product_link</th>\n",
       "      <th>category</th>\n",
       "      <th>color_count</th>\n",
       "      <th>price</th>\n",
       "      <th>discount</th>\n",
       "      <th>rank_num</th>\n",
       "      <th>rank_subcategory</th>\n",
       "      <th>sold_number</th>\n",
       "    </tr>\n",
       "  </thead>\n",
       "  <tbody>\n",
       "    <tr>\n",
       "      <th>0</th>\n",
       "      <td>1pc Rechargeable Deep Tissue Muscle Handheld M...</td>\n",
       "      <td>https://us.shein.com/1pc-Rechargeable-Deep-Tis...</td>\n",
       "      <td>appliances</td>\n",
       "      <td>1</td>\n",
       "      <td>2.03</td>\n",
       "      <td>0.22</td>\n",
       "      <td>1</td>\n",
       "      <td>in Give Gifts</td>\n",
       "      <td>NaN</td>\n",
       "    </tr>\n",
       "    <tr>\n",
       "      <th>1</th>\n",
       "      <td>1pc Portable Hanging Neck Fan</td>\n",
       "      <td>https://us.shein.com/1pc-Portable-Hanging-Neck...</td>\n",
       "      <td>appliances</td>\n",
       "      <td>1</td>\n",
       "      <td>6.48</td>\n",
       "      <td>0.20</td>\n",
       "      <td>4</td>\n",
       "      <td>in Top rated in Portable Fans</td>\n",
       "      <td>NaN</td>\n",
       "    </tr>\n",
       "    <tr>\n",
       "      <th>2</th>\n",
       "      <td>1pc Pink Colored Curved Eyelash Curler False E...</td>\n",
       "      <td>https://us.shein.com/1pc-Pink-Colored-Curved-E...</td>\n",
       "      <td>appliances</td>\n",
       "      <td>1</td>\n",
       "      <td>1.80</td>\n",
       "      <td>NaN</td>\n",
       "      <td>NaN</td>\n",
       "      <td>NaN</td>\n",
       "      <td>400.0</td>\n",
       "    </tr>\n",
       "    <tr>\n",
       "      <th>3</th>\n",
       "      <td>1 Mini Portable Handheld Fan With 2 Aa Batteri...</td>\n",
       "      <td>https://us.shein.com/1-Mini-Portable-Handheld-...</td>\n",
       "      <td>appliances</td>\n",
       "      <td>1</td>\n",
       "      <td>0.88</td>\n",
       "      <td>0.72</td>\n",
       "      <td>NaN</td>\n",
       "      <td>NaN</td>\n",
       "      <td>5600.0</td>\n",
       "    </tr>\n",
       "    <tr>\n",
       "      <th>4</th>\n",
       "      <td>Wit Water Flosser,Portable Oral Irrigator With...</td>\n",
       "      <td>https://us.shein.com/Wit-Water-Flosser-Portabl...</td>\n",
       "      <td>appliances</td>\n",
       "      <td>1</td>\n",
       "      <td>12.06</td>\n",
       "      <td>0.40</td>\n",
       "      <td>6</td>\n",
       "      <td>in Oral Irrigators</td>\n",
       "      <td>NaN</td>\n",
       "    </tr>\n",
       "  </tbody>\n",
       "</table>\n",
       "</div>"
      ],
      "text/plain": [
       "                                        product_name  \\\n",
       "0  1pc Rechargeable Deep Tissue Muscle Handheld M...   \n",
       "1                      1pc Portable Hanging Neck Fan   \n",
       "2  1pc Pink Colored Curved Eyelash Curler False E...   \n",
       "3  1 Mini Portable Handheld Fan With 2 Aa Batteri...   \n",
       "4  Wit Water Flosser,Portable Oral Irrigator With...   \n",
       "\n",
       "                                        product_link    category  color_count  \\\n",
       "0  https://us.shein.com/1pc-Rechargeable-Deep-Tis...  appliances            1   \n",
       "1  https://us.shein.com/1pc-Portable-Hanging-Neck...  appliances            1   \n",
       "2  https://us.shein.com/1pc-Pink-Colored-Curved-E...  appliances            1   \n",
       "3  https://us.shein.com/1-Mini-Portable-Handheld-...  appliances            1   \n",
       "4  https://us.shein.com/Wit-Water-Flosser-Portabl...  appliances            1   \n",
       "\n",
       "   price  discount rank_num               rank_subcategory  sold_number  \n",
       "0   2.03      0.22        1                  in Give Gifts          NaN  \n",
       "1   6.48      0.20        4  in Top rated in Portable Fans          NaN  \n",
       "2   1.80       NaN      NaN                            NaN        400.0  \n",
       "3   0.88      0.72      NaN                            NaN       5600.0  \n",
       "4  12.06      0.40        6             in Oral Irrigators          NaN  "
      ]
     },
     "execution_count": 36,
     "metadata": {},
     "output_type": "execute_result"
    }
   ],
   "source": [
    "df['color_count'] = 1\n",
    "df['category'] = 'appliances'\n",
    "df = df[[\n",
    "    'product_name',\n",
    "    'product_link',\n",
    "    'category',\n",
    "    'color_count',\n",
    "    'price',\n",
    "    'discount',\n",
    "    'rank_num',\n",
    "    'rank_subcategory',\n",
    "    'sold_number'\n",
    "]]\n",
    "\n",
    "df.head()"
   ]
  },
  {
   "cell_type": "code",
   "execution_count": 37,
   "id": "17141f0e",
   "metadata": {},
   "outputs": [
    {
     "name": "stdout",
     "output_type": "stream",
     "text": [
      "<class 'pandas.core.frame.DataFrame'>\n",
      "RangeIndex: 3986 entries, 0 to 3985\n",
      "Data columns (total 9 columns):\n",
      " #   Column            Non-Null Count  Dtype  \n",
      "---  ------            --------------  -----  \n",
      " 0   product_name      3986 non-null   object \n",
      " 1   product_link      40 non-null     object \n",
      " 2   category          3986 non-null   object \n",
      " 3   color_count       3986 non-null   int64  \n",
      " 4   price             3986 non-null   float64\n",
      " 5   discount          2459 non-null   float64\n",
      " 6   rank_num          559 non-null    object \n",
      " 7   rank_subcategory  559 non-null    object \n",
      " 8   sold_number       1361 non-null   float64\n",
      "dtypes: float64(3), int64(1), object(5)\n",
      "memory usage: 280.4+ KB\n"
     ]
    }
   ],
   "source": [
    "df.info()"
   ]
  },
  {
   "cell_type": "markdown",
   "id": "759fbcac",
   "metadata": {},
   "source": [
    "# Load"
   ]
  },
  {
   "cell_type": "code",
   "execution_count": 38,
   "id": "f183ad6d",
   "metadata": {},
   "outputs": [],
   "source": [
    "df.to_csv(f'../data/clean/appliances.csv', index=False)"
   ]
  }
 ],
 "metadata": {
  "kernelspec": {
   "display_name": "venv",
   "language": "python",
   "name": "python3"
  },
  "language_info": {
   "codemirror_mode": {
    "name": "ipython",
    "version": 3
   },
   "file_extension": ".py",
   "mimetype": "text/x-python",
   "name": "python",
   "nbconvert_exporter": "python",
   "pygments_lexer": "ipython3",
   "version": "3.11.9"
  }
 },
 "nbformat": 4,
 "nbformat_minor": 5
}
