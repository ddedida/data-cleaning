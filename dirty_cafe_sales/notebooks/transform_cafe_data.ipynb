{
 "cells": [
  {
   "cell_type": "code",
   "execution_count": 3,
   "id": "dc430307",
   "metadata": {},
   "outputs": [],
   "source": [
    "import pandas as pd\n",
    "import numpy as np\n",
    "from datetime import datetime"
   ]
  },
  {
   "cell_type": "markdown",
   "id": "8de47ccc",
   "metadata": {},
   "source": [
    "# Extract"
   ]
  },
  {
   "cell_type": "code",
   "execution_count": 4,
   "id": "e324f484",
   "metadata": {},
   "outputs": [
    {
     "name": "stdout",
     "output_type": "stream",
     "text": [
      "<class 'pandas.core.frame.DataFrame'>\n",
      "RangeIndex: 10000 entries, 0 to 9999\n",
      "Data columns (total 8 columns):\n",
      " #   Column            Non-Null Count  Dtype \n",
      "---  ------            --------------  ----- \n",
      " 0   Transaction ID    10000 non-null  object\n",
      " 1   Item              9667 non-null   object\n",
      " 2   Quantity          9862 non-null   object\n",
      " 3   Price Per Unit    9821 non-null   object\n",
      " 4   Total Spent       9827 non-null   object\n",
      " 5   Payment Method    7421 non-null   object\n",
      " 6   Location          6735 non-null   object\n",
      " 7   Transaction Date  9841 non-null   object\n",
      "dtypes: object(8)\n",
      "memory usage: 625.1+ KB\n"
     ]
    }
   ],
   "source": [
    "timestamp = datetime.now().strftime('%Y-%m-%d%H%M%S')\n",
    "\n",
    "df = pd.read_csv('../data/dirty_cafe_sales.csv')\n",
    "df.info()"
   ]
  },
  {
   "cell_type": "code",
   "execution_count": 5,
   "id": "97817d7c",
   "metadata": {},
   "outputs": [
    {
     "data": {
      "text/html": [
       "<div>\n",
       "<style scoped>\n",
       "    .dataframe tbody tr th:only-of-type {\n",
       "        vertical-align: middle;\n",
       "    }\n",
       "\n",
       "    .dataframe tbody tr th {\n",
       "        vertical-align: top;\n",
       "    }\n",
       "\n",
       "    .dataframe thead th {\n",
       "        text-align: right;\n",
       "    }\n",
       "</style>\n",
       "<table border=\"1\" class=\"dataframe\">\n",
       "  <thead>\n",
       "    <tr style=\"text-align: right;\">\n",
       "      <th></th>\n",
       "      <th>transaction_id</th>\n",
       "      <th>item</th>\n",
       "      <th>quantity</th>\n",
       "      <th>price_per_unit</th>\n",
       "      <th>total_spent</th>\n",
       "      <th>payment_method</th>\n",
       "      <th>location</th>\n",
       "      <th>transaction_date</th>\n",
       "    </tr>\n",
       "  </thead>\n",
       "  <tbody>\n",
       "    <tr>\n",
       "      <th>0</th>\n",
       "      <td>TXN_1961373</td>\n",
       "      <td>Coffee</td>\n",
       "      <td>2</td>\n",
       "      <td>2.0</td>\n",
       "      <td>4.0</td>\n",
       "      <td>Credit Card</td>\n",
       "      <td>Takeaway</td>\n",
       "      <td>2023-09-08</td>\n",
       "    </tr>\n",
       "    <tr>\n",
       "      <th>1</th>\n",
       "      <td>TXN_4977031</td>\n",
       "      <td>Cake</td>\n",
       "      <td>4</td>\n",
       "      <td>3.0</td>\n",
       "      <td>12.0</td>\n",
       "      <td>Cash</td>\n",
       "      <td>In-store</td>\n",
       "      <td>2023-05-16</td>\n",
       "    </tr>\n",
       "    <tr>\n",
       "      <th>2</th>\n",
       "      <td>TXN_4271903</td>\n",
       "      <td>Cookie</td>\n",
       "      <td>4</td>\n",
       "      <td>1.0</td>\n",
       "      <td>ERROR</td>\n",
       "      <td>Credit Card</td>\n",
       "      <td>In-store</td>\n",
       "      <td>2023-07-19</td>\n",
       "    </tr>\n",
       "    <tr>\n",
       "      <th>3</th>\n",
       "      <td>TXN_7034554</td>\n",
       "      <td>Salad</td>\n",
       "      <td>2</td>\n",
       "      <td>5.0</td>\n",
       "      <td>10.0</td>\n",
       "      <td>UNKNOWN</td>\n",
       "      <td>UNKNOWN</td>\n",
       "      <td>2023-04-27</td>\n",
       "    </tr>\n",
       "    <tr>\n",
       "      <th>4</th>\n",
       "      <td>TXN_3160411</td>\n",
       "      <td>Coffee</td>\n",
       "      <td>2</td>\n",
       "      <td>2.0</td>\n",
       "      <td>4.0</td>\n",
       "      <td>Digital Wallet</td>\n",
       "      <td>In-store</td>\n",
       "      <td>2023-06-11</td>\n",
       "    </tr>\n",
       "  </tbody>\n",
       "</table>\n",
       "</div>"
      ],
      "text/plain": [
       "  transaction_id    item quantity price_per_unit total_spent  payment_method  \\\n",
       "0    TXN_1961373  Coffee        2            2.0         4.0     Credit Card   \n",
       "1    TXN_4977031    Cake        4            3.0        12.0            Cash   \n",
       "2    TXN_4271903  Cookie        4            1.0       ERROR     Credit Card   \n",
       "3    TXN_7034554   Salad        2            5.0        10.0         UNKNOWN   \n",
       "4    TXN_3160411  Coffee        2            2.0         4.0  Digital Wallet   \n",
       "\n",
       "   location transaction_date  \n",
       "0  Takeaway       2023-09-08  \n",
       "1  In-store       2023-05-16  \n",
       "2  In-store       2023-07-19  \n",
       "3   UNKNOWN       2023-04-27  \n",
       "4  In-store       2023-06-11  "
      ]
     },
     "execution_count": 5,
     "metadata": {},
     "output_type": "execute_result"
    }
   ],
   "source": [
    "df.columns = df.columns.str.strip().str.replace(' ', '_').str.lower()\n",
    "df.head()"
   ]
  },
  {
   "cell_type": "markdown",
   "id": "79077ab4",
   "metadata": {},
   "source": [
    "# Transform"
   ]
  },
  {
   "cell_type": "markdown",
   "id": "74a11a2a",
   "metadata": {},
   "source": [
    "### Transaction ID"
   ]
  },
  {
   "cell_type": "code",
   "execution_count": 6,
   "id": "36cdc85a",
   "metadata": {},
   "outputs": [
    {
     "name": "stdout",
     "output_type": "stream",
     "text": [
      "<class 'pandas.core.frame.DataFrame'>\n",
      "RangeIndex: 10000 entries, 0 to 9999\n",
      "Data columns (total 8 columns):\n",
      " #   Column            Non-Null Count  Dtype \n",
      "---  ------            --------------  ----- \n",
      " 0   transaction_id    10000 non-null  object\n",
      " 1   item              9667 non-null   object\n",
      " 2   quantity          9862 non-null   object\n",
      " 3   price_per_unit    9821 non-null   object\n",
      " 4   total_spent       9827 non-null   object\n",
      " 5   payment_method    7421 non-null   object\n",
      " 6   location          6735 non-null   object\n",
      " 7   transaction_date  9841 non-null   object\n",
      "dtypes: object(8)\n",
      "memory usage: 625.1+ KB\n"
     ]
    }
   ],
   "source": [
    "df.dropna(subset=['transaction_id'], inplace=True)\n",
    "df.info()"
   ]
  },
  {
   "cell_type": "markdown",
   "id": "de3a54cf",
   "metadata": {},
   "source": [
    "### Item, Payment Method, Location"
   ]
  },
  {
   "cell_type": "code",
   "execution_count": 7,
   "id": "d1cc47ea",
   "metadata": {},
   "outputs": [
    {
     "name": "stdout",
     "output_type": "stream",
     "text": [
      "['Coffee' 'Cake' 'Cookie' 'Salad' 'Smoothie' 'UNKNOWN' 'Sandwich' nan\n",
      " 'ERROR' 'Juice' 'Tea']\n",
      "['Credit Card' 'Cash' 'UNKNOWN' 'Digital Wallet' 'ERROR' nan]\n",
      "['Takeaway' 'In-store' 'UNKNOWN' nan 'ERROR']\n"
     ]
    }
   ],
   "source": [
    "print(df['item'].unique())\n",
    "print(df['payment_method'].unique())\n",
    "print(df['location'].unique())"
   ]
  },
  {
   "cell_type": "code",
   "execution_count": 8,
   "id": "1bdd5b4d",
   "metadata": {},
   "outputs": [],
   "source": [
    "df['item'] = df['item'].replace(['ERROR', 'UNKNOWN', np.nan], 'Unknown')\n",
    "df['payment_method'] = df['payment_method'].replace(['ERROR', 'UNKNOWN', np.nan], 'Unknown')\n",
    "df['location'] = df['location'].replace(['ERROR', 'UNKNOWN', np.nan], 'Unknown')"
   ]
  },
  {
   "cell_type": "code",
   "execution_count": 9,
   "id": "1c6b8a0a",
   "metadata": {},
   "outputs": [
    {
     "name": "stdout",
     "output_type": "stream",
     "text": [
      "['Coffee' 'Cake' 'Cookie' 'Salad' 'Smoothie' 'Unknown' 'Sandwich' 'Juice'\n",
      " 'Tea']\n",
      "['Credit Card' 'Cash' 'Unknown' 'Digital Wallet']\n",
      "['Takeaway' 'In-store' 'Unknown']\n"
     ]
    }
   ],
   "source": [
    "print(df['item'].unique())\n",
    "print(df['payment_method'].unique())\n",
    "print(df['location'].unique())"
   ]
  },
  {
   "cell_type": "markdown",
   "id": "476213fe",
   "metadata": {},
   "source": [
    "### Quantity, Price Per Unit, Total Spent"
   ]
  },
  {
   "cell_type": "code",
   "execution_count": 10,
   "id": "a4d05ab4",
   "metadata": {},
   "outputs": [
    {
     "name": "stdout",
     "output_type": "stream",
     "text": [
      "['2' '4' '5' '3' '1' 'ERROR' 'UNKNOWN' nan]\n",
      "['2.0' '3.0' '1.0' '5.0' '4.0' '1.5' nan 'ERROR' 'UNKNOWN']\n",
      "['4.0' '12.0' 'ERROR' '10.0' '20.0' '9.0' '16.0' '15.0' '25.0' '8.0' '5.0'\n",
      " '3.0' '6.0' nan 'UNKNOWN' '2.0' '1.0' '7.5' '4.5' '1.5']\n"
     ]
    }
   ],
   "source": [
    "print(df['quantity'].unique())\n",
    "print(df['price_per_unit'].unique())\n",
    "print(df['total_spent'].unique())"
   ]
  },
  {
   "cell_type": "code",
   "execution_count": 11,
   "id": "ee281540",
   "metadata": {},
   "outputs": [],
   "source": [
    "df[['quantity', 'price_per_unit', 'total_spent']] = df[['quantity', 'price_per_unit', 'total_spent']].replace(['ERROR', 'UNKNOWN'], np.nan)\n",
    "df[['quantity', 'price_per_unit', 'total_spent']] = df[['quantity', 'price_per_unit', 'total_spent']].astype(float)"
   ]
  },
  {
   "cell_type": "code",
   "execution_count": 12,
   "id": "e015c9c6",
   "metadata": {},
   "outputs": [],
   "source": [
    "df.loc[df['quantity'].isna() & df['price_per_unit'].notna() & df['total_spent'].notna(), 'quantity'] = df['total_spent'] / df['price_per_unit']\n",
    "df.loc[df['price_per_unit'].isna() & df['quantity'].notna() & df['total_spent'].notna(), 'price_per_unit'] = df['total_spent'] / df['quantity']\n",
    "df.loc[df['total_spent'].isna() & df['quantity'].notna() & df['price_per_unit'].notna(), 'total_spent'] = df['quantity'] * df['price_per_unit']"
   ]
  },
  {
   "cell_type": "code",
   "execution_count": 13,
   "id": "92b8ba27",
   "metadata": {},
   "outputs": [
    {
     "name": "stdout",
     "output_type": "stream",
     "text": [
      "[ 2.  4.  5.  3.  1. nan]\n",
      "[2.  3.  1.  5.  4.  1.5 nan]\n",
      "[ 4.  12.  10.  20.   9.  16.  15.  25.   8.   5.   3.   6.   2.   nan\n",
      "  1.   7.5  4.5  1.5]\n"
     ]
    }
   ],
   "source": [
    "print(df['quantity'].unique())\n",
    "print(df['price_per_unit'].unique())\n",
    "print(df['total_spent'].unique())"
   ]
  },
  {
   "cell_type": "markdown",
   "id": "9bfc8585",
   "metadata": {},
   "source": [
    "### Transaction Date"
   ]
  },
  {
   "cell_type": "code",
   "execution_count": 14,
   "id": "b40e6ee3",
   "metadata": {},
   "outputs": [
    {
     "name": "stdout",
     "output_type": "stream",
     "text": [
      "<class 'pandas.core.frame.DataFrame'>\n",
      "RangeIndex: 10000 entries, 0 to 9999\n",
      "Data columns (total 8 columns):\n",
      " #   Column            Non-Null Count  Dtype         \n",
      "---  ------            --------------  -----         \n",
      " 0   transaction_id    10000 non-null  object        \n",
      " 1   item              10000 non-null  object        \n",
      " 2   quantity          9962 non-null   float64       \n",
      " 3   price_per_unit    9962 non-null   float64       \n",
      " 4   total_spent       9960 non-null   float64       \n",
      " 5   payment_method    10000 non-null  object        \n",
      " 6   location          10000 non-null  object        \n",
      " 7   transaction_date  9540 non-null   datetime64[ns]\n",
      "dtypes: datetime64[ns](1), float64(3), object(4)\n",
      "memory usage: 625.1+ KB\n"
     ]
    }
   ],
   "source": [
    "df['transaction_date'] = pd.to_datetime(df['transaction_date'], errors='coerce')\n",
    "df.info()"
   ]
  },
  {
   "cell_type": "markdown",
   "id": "7f53fdf8",
   "metadata": {},
   "source": [
    "## Drop Row"
   ]
  },
  {
   "cell_type": "markdown",
   "id": "24116409",
   "metadata": {},
   "source": [
    "### Restore `price_per_unit` value based on `item`"
   ]
  },
  {
   "cell_type": "code",
   "execution_count": 15,
   "id": "e292d9c4",
   "metadata": {},
   "outputs": [
    {
     "data": {
      "text/plain": [
       "item\n",
       "Cake                                 [3.0]\n",
       "Coffee                               [2.0]\n",
       "Cookie                               [1.0]\n",
       "Juice                                [3.0]\n",
       "Salad                                [5.0]\n",
       "Sandwich                             [4.0]\n",
       "Smoothie                             [4.0]\n",
       "Tea                                  [1.5]\n",
       "Unknown     [3.0, 1.5, 2.0, 1.0, 5.0, 4.0]\n",
       "Name: price_per_unit, dtype: object"
      ]
     },
     "execution_count": 15,
     "metadata": {},
     "output_type": "execute_result"
    }
   ],
   "source": [
    "price_list = df.dropna(subset=['price_per_unit'])\n",
    "price_list.groupby('item')['price_per_unit'].apply(lambda x: x.unique())"
   ]
  },
  {
   "cell_type": "code",
   "execution_count": 16,
   "id": "61cd59d0",
   "metadata": {},
   "outputs": [
    {
     "data": {
      "text/plain": [
       "array(['Coffee', 'Cake', 'Cookie', 'Salad', 'Smoothie', 'Sandwich',\n",
       "       'Juice', 'Tea'], dtype=object)"
      ]
     },
     "execution_count": 16,
     "metadata": {},
     "output_type": "execute_result"
    }
   ],
   "source": [
    "price_list = df[df['item'].ne('Unknown')]\n",
    "price_list['item'].unique()"
   ]
  },
  {
   "cell_type": "code",
   "execution_count": 17,
   "id": "06ca269a",
   "metadata": {},
   "outputs": [
    {
     "name": "stdout",
     "output_type": "stream",
     "text": [
      "{'Cake': 3.0, 'Coffee': 2.0, 'Cookie': 1.0, 'Juice': 3.0, 'Salad': 5.0, 'Sandwich': 4.0, 'Smoothie': 4.0, 'Tea': 1.5}\n"
     ]
    }
   ],
   "source": [
    "price_map = (\n",
    "    price_list\n",
    "      .groupby('item')['price_per_unit']\n",
    "      .first()\n",
    "      .to_dict()\n",
    ")\n",
    "\n",
    "print(price_map)"
   ]
  },
  {
   "cell_type": "code",
   "execution_count": 18,
   "id": "5baaf377",
   "metadata": {},
   "outputs": [
    {
     "name": "stdout",
     "output_type": "stream",
     "text": [
      "<class 'pandas.core.frame.DataFrame'>\n",
      "RangeIndex: 10000 entries, 0 to 9999\n",
      "Data columns (total 8 columns):\n",
      " #   Column            Non-Null Count  Dtype         \n",
      "---  ------            --------------  -----         \n",
      " 0   transaction_id    10000 non-null  object        \n",
      " 1   item              10000 non-null  object        \n",
      " 2   quantity          9962 non-null   float64       \n",
      " 3   price_per_unit    9994 non-null   float64       \n",
      " 4   total_spent       9960 non-null   float64       \n",
      " 5   payment_method    10000 non-null  object        \n",
      " 6   location          10000 non-null  object        \n",
      " 7   transaction_date  9540 non-null   datetime64[ns]\n",
      "dtypes: datetime64[ns](1), float64(3), object(4)\n",
      "memory usage: 625.1+ KB\n"
     ]
    }
   ],
   "source": [
    "df['price_per_unit'] = df['price_per_unit'].fillna(df['item'].map(price_map))\n",
    "df.info()"
   ]
  },
  {
   "cell_type": "code",
   "execution_count": 19,
   "id": "578c5be1",
   "metadata": {},
   "outputs": [
    {
     "name": "stdout",
     "output_type": "stream",
     "text": [
      "<class 'pandas.core.frame.DataFrame'>\n",
      "RangeIndex: 10000 entries, 0 to 9999\n",
      "Data columns (total 8 columns):\n",
      " #   Column            Non-Null Count  Dtype         \n",
      "---  ------            --------------  -----         \n",
      " 0   transaction_id    10000 non-null  object        \n",
      " 1   item              10000 non-null  object        \n",
      " 2   quantity          9977 non-null   float64       \n",
      " 3   price_per_unit    9994 non-null   float64       \n",
      " 4   total_spent       9977 non-null   float64       \n",
      " 5   payment_method    10000 non-null  object        \n",
      " 6   location          10000 non-null  object        \n",
      " 7   transaction_date  9540 non-null   datetime64[ns]\n",
      "dtypes: datetime64[ns](1), float64(3), object(4)\n",
      "memory usage: 625.1+ KB\n"
     ]
    }
   ],
   "source": [
    "df.loc[df['quantity'].isna() & df['price_per_unit'].notna() & df['total_spent'].notna(), 'quantity'] = df['total_spent'] / df['price_per_unit']\n",
    "df.loc[df['price_per_unit'].isna() & df['quantity'].notna() & df['total_spent'].notna(), 'price_per_unit'] = df['total_spent'] / df['quantity']\n",
    "df.loc[df['total_spent'].isna() & df['quantity'].notna() & df['price_per_unit'].notna(), 'total_spent'] = df['quantity'] * df['price_per_unit']\n",
    "df.info()"
   ]
  },
  {
   "cell_type": "markdown",
   "id": "f199468a",
   "metadata": {},
   "source": [
    "### Separate reject and clean data"
   ]
  },
  {
   "cell_type": "code",
   "execution_count": 20,
   "id": "97e68e32",
   "metadata": {},
   "outputs": [],
   "source": [
    "data_reject = df.loc[df['quantity'].isna() | df['price_per_unit'].isna() | df['total_spent'].isna() | df['transaction_date'].isna()]\n",
    "data_clean = df.drop(data_reject.index)"
   ]
  },
  {
   "cell_type": "code",
   "execution_count": 21,
   "id": "7bafcb03",
   "metadata": {},
   "outputs": [
    {
     "data": {
      "text/html": [
       "<div>\n",
       "<style scoped>\n",
       "    .dataframe tbody tr th:only-of-type {\n",
       "        vertical-align: middle;\n",
       "    }\n",
       "\n",
       "    .dataframe tbody tr th {\n",
       "        vertical-align: top;\n",
       "    }\n",
       "\n",
       "    .dataframe thead th {\n",
       "        text-align: right;\n",
       "    }\n",
       "</style>\n",
       "<table border=\"1\" class=\"dataframe\">\n",
       "  <thead>\n",
       "    <tr style=\"text-align: right;\">\n",
       "      <th></th>\n",
       "      <th>transaction_id</th>\n",
       "      <th>item</th>\n",
       "      <th>quantity</th>\n",
       "      <th>price_per_unit</th>\n",
       "      <th>total_spent</th>\n",
       "      <th>payment_method</th>\n",
       "      <th>location</th>\n",
       "      <th>transaction_date</th>\n",
       "    </tr>\n",
       "  </thead>\n",
       "  <tbody>\n",
       "    <tr>\n",
       "      <th>11</th>\n",
       "      <td>TXN_3051279</td>\n",
       "      <td>Sandwich</td>\n",
       "      <td>2.0</td>\n",
       "      <td>4.0</td>\n",
       "      <td>8.0</td>\n",
       "      <td>Credit Card</td>\n",
       "      <td>Takeaway</td>\n",
       "      <td>NaT</td>\n",
       "    </tr>\n",
       "    <tr>\n",
       "      <th>29</th>\n",
       "      <td>TXN_7640952</td>\n",
       "      <td>Cake</td>\n",
       "      <td>4.0</td>\n",
       "      <td>3.0</td>\n",
       "      <td>12.0</td>\n",
       "      <td>Digital Wallet</td>\n",
       "      <td>Takeaway</td>\n",
       "      <td>NaT</td>\n",
       "    </tr>\n",
       "    <tr>\n",
       "      <th>33</th>\n",
       "      <td>TXN_7710508</td>\n",
       "      <td>Unknown</td>\n",
       "      <td>5.0</td>\n",
       "      <td>1.0</td>\n",
       "      <td>5.0</td>\n",
       "      <td>Cash</td>\n",
       "      <td>Unknown</td>\n",
       "      <td>NaT</td>\n",
       "    </tr>\n",
       "    <tr>\n",
       "      <th>77</th>\n",
       "      <td>TXN_2091733</td>\n",
       "      <td>Salad</td>\n",
       "      <td>1.0</td>\n",
       "      <td>5.0</td>\n",
       "      <td>5.0</td>\n",
       "      <td>Unknown</td>\n",
       "      <td>In-store</td>\n",
       "      <td>NaT</td>\n",
       "    </tr>\n",
       "    <tr>\n",
       "      <th>103</th>\n",
       "      <td>TXN_7028009</td>\n",
       "      <td>Cake</td>\n",
       "      <td>4.0</td>\n",
       "      <td>3.0</td>\n",
       "      <td>12.0</td>\n",
       "      <td>Unknown</td>\n",
       "      <td>Takeaway</td>\n",
       "      <td>NaT</td>\n",
       "    </tr>\n",
       "    <tr>\n",
       "      <th>...</th>\n",
       "      <td>...</td>\n",
       "      <td>...</td>\n",
       "      <td>...</td>\n",
       "      <td>...</td>\n",
       "      <td>...</td>\n",
       "      <td>...</td>\n",
       "      <td>...</td>\n",
       "      <td>...</td>\n",
       "    </tr>\n",
       "    <tr>\n",
       "      <th>9933</th>\n",
       "      <td>TXN_9460419</td>\n",
       "      <td>Cake</td>\n",
       "      <td>1.0</td>\n",
       "      <td>3.0</td>\n",
       "      <td>3.0</td>\n",
       "      <td>Unknown</td>\n",
       "      <td>Takeaway</td>\n",
       "      <td>NaT</td>\n",
       "    </tr>\n",
       "    <tr>\n",
       "      <th>9937</th>\n",
       "      <td>TXN_8253472</td>\n",
       "      <td>Cake</td>\n",
       "      <td>1.0</td>\n",
       "      <td>3.0</td>\n",
       "      <td>3.0</td>\n",
       "      <td>Unknown</td>\n",
       "      <td>Unknown</td>\n",
       "      <td>NaT</td>\n",
       "    </tr>\n",
       "    <tr>\n",
       "      <th>9949</th>\n",
       "      <td>TXN_3130865</td>\n",
       "      <td>Juice</td>\n",
       "      <td>3.0</td>\n",
       "      <td>3.0</td>\n",
       "      <td>9.0</td>\n",
       "      <td>Unknown</td>\n",
       "      <td>In-store</td>\n",
       "      <td>NaT</td>\n",
       "    </tr>\n",
       "    <tr>\n",
       "      <th>9983</th>\n",
       "      <td>TXN_9226047</td>\n",
       "      <td>Smoothie</td>\n",
       "      <td>3.0</td>\n",
       "      <td>4.0</td>\n",
       "      <td>12.0</td>\n",
       "      <td>Cash</td>\n",
       "      <td>Unknown</td>\n",
       "      <td>NaT</td>\n",
       "    </tr>\n",
       "    <tr>\n",
       "      <th>9988</th>\n",
       "      <td>TXN_9594133</td>\n",
       "      <td>Cake</td>\n",
       "      <td>5.0</td>\n",
       "      <td>3.0</td>\n",
       "      <td>15.0</td>\n",
       "      <td>Unknown</td>\n",
       "      <td>Unknown</td>\n",
       "      <td>NaT</td>\n",
       "    </tr>\n",
       "  </tbody>\n",
       "</table>\n",
       "<p>486 rows × 8 columns</p>\n",
       "</div>"
      ],
      "text/plain": [
       "     transaction_id      item  quantity  price_per_unit  total_spent  \\\n",
       "11      TXN_3051279  Sandwich       2.0             4.0          8.0   \n",
       "29      TXN_7640952      Cake       4.0             3.0         12.0   \n",
       "33      TXN_7710508   Unknown       5.0             1.0          5.0   \n",
       "77      TXN_2091733     Salad       1.0             5.0          5.0   \n",
       "103     TXN_7028009      Cake       4.0             3.0         12.0   \n",
       "...             ...       ...       ...             ...          ...   \n",
       "9933    TXN_9460419      Cake       1.0             3.0          3.0   \n",
       "9937    TXN_8253472      Cake       1.0             3.0          3.0   \n",
       "9949    TXN_3130865     Juice       3.0             3.0          9.0   \n",
       "9983    TXN_9226047  Smoothie       3.0             4.0         12.0   \n",
       "9988    TXN_9594133      Cake       5.0             3.0         15.0   \n",
       "\n",
       "      payment_method  location transaction_date  \n",
       "11       Credit Card  Takeaway              NaT  \n",
       "29    Digital Wallet  Takeaway              NaT  \n",
       "33              Cash   Unknown              NaT  \n",
       "77           Unknown  In-store              NaT  \n",
       "103          Unknown  Takeaway              NaT  \n",
       "...              ...       ...              ...  \n",
       "9933         Unknown  Takeaway              NaT  \n",
       "9937         Unknown   Unknown              NaT  \n",
       "9949         Unknown  In-store              NaT  \n",
       "9983            Cash   Unknown              NaT  \n",
       "9988         Unknown   Unknown              NaT  \n",
       "\n",
       "[486 rows x 8 columns]"
      ]
     },
     "execution_count": 21,
     "metadata": {},
     "output_type": "execute_result"
    }
   ],
   "source": [
    "data_reject"
   ]
  },
  {
   "cell_type": "code",
   "execution_count": 22,
   "id": "15bbae5e",
   "metadata": {},
   "outputs": [
    {
     "data": {
      "text/html": [
       "<div>\n",
       "<style scoped>\n",
       "    .dataframe tbody tr th:only-of-type {\n",
       "        vertical-align: middle;\n",
       "    }\n",
       "\n",
       "    .dataframe tbody tr th {\n",
       "        vertical-align: top;\n",
       "    }\n",
       "\n",
       "    .dataframe thead th {\n",
       "        text-align: right;\n",
       "    }\n",
       "</style>\n",
       "<table border=\"1\" class=\"dataframe\">\n",
       "  <thead>\n",
       "    <tr style=\"text-align: right;\">\n",
       "      <th></th>\n",
       "      <th>transaction_id</th>\n",
       "      <th>item</th>\n",
       "      <th>quantity</th>\n",
       "      <th>price_per_unit</th>\n",
       "      <th>total_spent</th>\n",
       "      <th>payment_method</th>\n",
       "      <th>location</th>\n",
       "      <th>transaction_date</th>\n",
       "    </tr>\n",
       "  </thead>\n",
       "  <tbody>\n",
       "    <tr>\n",
       "      <th>0</th>\n",
       "      <td>TXN_1961373</td>\n",
       "      <td>Coffee</td>\n",
       "      <td>2.0</td>\n",
       "      <td>2.0</td>\n",
       "      <td>4.0</td>\n",
       "      <td>Credit Card</td>\n",
       "      <td>Takeaway</td>\n",
       "      <td>2023-09-08</td>\n",
       "    </tr>\n",
       "    <tr>\n",
       "      <th>1</th>\n",
       "      <td>TXN_4977031</td>\n",
       "      <td>Cake</td>\n",
       "      <td>4.0</td>\n",
       "      <td>3.0</td>\n",
       "      <td>12.0</td>\n",
       "      <td>Cash</td>\n",
       "      <td>In-store</td>\n",
       "      <td>2023-05-16</td>\n",
       "    </tr>\n",
       "    <tr>\n",
       "      <th>2</th>\n",
       "      <td>TXN_4271903</td>\n",
       "      <td>Cookie</td>\n",
       "      <td>4.0</td>\n",
       "      <td>1.0</td>\n",
       "      <td>4.0</td>\n",
       "      <td>Credit Card</td>\n",
       "      <td>In-store</td>\n",
       "      <td>2023-07-19</td>\n",
       "    </tr>\n",
       "    <tr>\n",
       "      <th>3</th>\n",
       "      <td>TXN_7034554</td>\n",
       "      <td>Salad</td>\n",
       "      <td>2.0</td>\n",
       "      <td>5.0</td>\n",
       "      <td>10.0</td>\n",
       "      <td>Unknown</td>\n",
       "      <td>Unknown</td>\n",
       "      <td>2023-04-27</td>\n",
       "    </tr>\n",
       "    <tr>\n",
       "      <th>4</th>\n",
       "      <td>TXN_3160411</td>\n",
       "      <td>Coffee</td>\n",
       "      <td>2.0</td>\n",
       "      <td>2.0</td>\n",
       "      <td>4.0</td>\n",
       "      <td>Digital Wallet</td>\n",
       "      <td>In-store</td>\n",
       "      <td>2023-06-11</td>\n",
       "    </tr>\n",
       "    <tr>\n",
       "      <th>...</th>\n",
       "      <td>...</td>\n",
       "      <td>...</td>\n",
       "      <td>...</td>\n",
       "      <td>...</td>\n",
       "      <td>...</td>\n",
       "      <td>...</td>\n",
       "      <td>...</td>\n",
       "      <td>...</td>\n",
       "    </tr>\n",
       "    <tr>\n",
       "      <th>9995</th>\n",
       "      <td>TXN_7672686</td>\n",
       "      <td>Coffee</td>\n",
       "      <td>2.0</td>\n",
       "      <td>2.0</td>\n",
       "      <td>4.0</td>\n",
       "      <td>Unknown</td>\n",
       "      <td>Unknown</td>\n",
       "      <td>2023-08-30</td>\n",
       "    </tr>\n",
       "    <tr>\n",
       "      <th>9996</th>\n",
       "      <td>TXN_9659401</td>\n",
       "      <td>Unknown</td>\n",
       "      <td>3.0</td>\n",
       "      <td>1.0</td>\n",
       "      <td>3.0</td>\n",
       "      <td>Digital Wallet</td>\n",
       "      <td>Unknown</td>\n",
       "      <td>2023-06-02</td>\n",
       "    </tr>\n",
       "    <tr>\n",
       "      <th>9997</th>\n",
       "      <td>TXN_5255387</td>\n",
       "      <td>Coffee</td>\n",
       "      <td>4.0</td>\n",
       "      <td>2.0</td>\n",
       "      <td>8.0</td>\n",
       "      <td>Digital Wallet</td>\n",
       "      <td>Unknown</td>\n",
       "      <td>2023-03-02</td>\n",
       "    </tr>\n",
       "    <tr>\n",
       "      <th>9998</th>\n",
       "      <td>TXN_7695629</td>\n",
       "      <td>Cookie</td>\n",
       "      <td>3.0</td>\n",
       "      <td>1.0</td>\n",
       "      <td>3.0</td>\n",
       "      <td>Digital Wallet</td>\n",
       "      <td>Unknown</td>\n",
       "      <td>2023-12-02</td>\n",
       "    </tr>\n",
       "    <tr>\n",
       "      <th>9999</th>\n",
       "      <td>TXN_6170729</td>\n",
       "      <td>Sandwich</td>\n",
       "      <td>3.0</td>\n",
       "      <td>4.0</td>\n",
       "      <td>12.0</td>\n",
       "      <td>Cash</td>\n",
       "      <td>In-store</td>\n",
       "      <td>2023-11-07</td>\n",
       "    </tr>\n",
       "  </tbody>\n",
       "</table>\n",
       "<p>9514 rows × 8 columns</p>\n",
       "</div>"
      ],
      "text/plain": [
       "     transaction_id      item  quantity  price_per_unit  total_spent  \\\n",
       "0       TXN_1961373    Coffee       2.0             2.0          4.0   \n",
       "1       TXN_4977031      Cake       4.0             3.0         12.0   \n",
       "2       TXN_4271903    Cookie       4.0             1.0          4.0   \n",
       "3       TXN_7034554     Salad       2.0             5.0         10.0   \n",
       "4       TXN_3160411    Coffee       2.0             2.0          4.0   \n",
       "...             ...       ...       ...             ...          ...   \n",
       "9995    TXN_7672686    Coffee       2.0             2.0          4.0   \n",
       "9996    TXN_9659401   Unknown       3.0             1.0          3.0   \n",
       "9997    TXN_5255387    Coffee       4.0             2.0          8.0   \n",
       "9998    TXN_7695629    Cookie       3.0             1.0          3.0   \n",
       "9999    TXN_6170729  Sandwich       3.0             4.0         12.0   \n",
       "\n",
       "      payment_method  location transaction_date  \n",
       "0        Credit Card  Takeaway       2023-09-08  \n",
       "1               Cash  In-store       2023-05-16  \n",
       "2        Credit Card  In-store       2023-07-19  \n",
       "3            Unknown   Unknown       2023-04-27  \n",
       "4     Digital Wallet  In-store       2023-06-11  \n",
       "...              ...       ...              ...  \n",
       "9995         Unknown   Unknown       2023-08-30  \n",
       "9996  Digital Wallet   Unknown       2023-06-02  \n",
       "9997  Digital Wallet   Unknown       2023-03-02  \n",
       "9998  Digital Wallet   Unknown       2023-12-02  \n",
       "9999            Cash  In-store       2023-11-07  \n",
       "\n",
       "[9514 rows x 8 columns]"
      ]
     },
     "execution_count": 22,
     "metadata": {},
     "output_type": "execute_result"
    }
   ],
   "source": [
    "data_clean"
   ]
  },
  {
   "cell_type": "markdown",
   "id": "43d32af8",
   "metadata": {},
   "source": [
    "### `dim_items`"
   ]
  },
  {
   "cell_type": "code",
   "execution_count": 23,
   "id": "b7e8dfa0",
   "metadata": {},
   "outputs": [
    {
     "data": {
      "text/html": [
       "<div>\n",
       "<style scoped>\n",
       "    .dataframe tbody tr th:only-of-type {\n",
       "        vertical-align: middle;\n",
       "    }\n",
       "\n",
       "    .dataframe tbody tr th {\n",
       "        vertical-align: top;\n",
       "    }\n",
       "\n",
       "    .dataframe thead th {\n",
       "        text-align: right;\n",
       "    }\n",
       "</style>\n",
       "<table border=\"1\" class=\"dataframe\">\n",
       "  <thead>\n",
       "    <tr style=\"text-align: right;\">\n",
       "      <th></th>\n",
       "      <th>item_id</th>\n",
       "      <th>item</th>\n",
       "      <th>price_per_unit</th>\n",
       "    </tr>\n",
       "  </thead>\n",
       "  <tbody>\n",
       "    <tr>\n",
       "      <th>0</th>\n",
       "      <td>1</td>\n",
       "      <td>Coffee</td>\n",
       "      <td>2.0</td>\n",
       "    </tr>\n",
       "    <tr>\n",
       "      <th>1</th>\n",
       "      <td>2</td>\n",
       "      <td>Cake</td>\n",
       "      <td>3.0</td>\n",
       "    </tr>\n",
       "    <tr>\n",
       "      <th>2</th>\n",
       "      <td>3</td>\n",
       "      <td>Cookie</td>\n",
       "      <td>1.0</td>\n",
       "    </tr>\n",
       "    <tr>\n",
       "      <th>3</th>\n",
       "      <td>4</td>\n",
       "      <td>Salad</td>\n",
       "      <td>5.0</td>\n",
       "    </tr>\n",
       "    <tr>\n",
       "      <th>4</th>\n",
       "      <td>5</td>\n",
       "      <td>Smoothie</td>\n",
       "      <td>4.0</td>\n",
       "    </tr>\n",
       "    <tr>\n",
       "      <th>5</th>\n",
       "      <td>6</td>\n",
       "      <td>Sandwich</td>\n",
       "      <td>4.0</td>\n",
       "    </tr>\n",
       "    <tr>\n",
       "      <th>6</th>\n",
       "      <td>7</td>\n",
       "      <td>Juice</td>\n",
       "      <td>3.0</td>\n",
       "    </tr>\n",
       "    <tr>\n",
       "      <th>7</th>\n",
       "      <td>8</td>\n",
       "      <td>Tea</td>\n",
       "      <td>1.5</td>\n",
       "    </tr>\n",
       "    <tr>\n",
       "      <th>8</th>\n",
       "      <td>9</td>\n",
       "      <td>Unknown</td>\n",
       "      <td>3.0</td>\n",
       "    </tr>\n",
       "    <tr>\n",
       "      <th>9</th>\n",
       "      <td>10</td>\n",
       "      <td>Unknown</td>\n",
       "      <td>1.5</td>\n",
       "    </tr>\n",
       "    <tr>\n",
       "      <th>10</th>\n",
       "      <td>11</td>\n",
       "      <td>Unknown</td>\n",
       "      <td>2.0</td>\n",
       "    </tr>\n",
       "    <tr>\n",
       "      <th>11</th>\n",
       "      <td>12</td>\n",
       "      <td>Unknown</td>\n",
       "      <td>1.0</td>\n",
       "    </tr>\n",
       "    <tr>\n",
       "      <th>12</th>\n",
       "      <td>13</td>\n",
       "      <td>Unknown</td>\n",
       "      <td>5.0</td>\n",
       "    </tr>\n",
       "    <tr>\n",
       "      <th>13</th>\n",
       "      <td>14</td>\n",
       "      <td>Unknown</td>\n",
       "      <td>4.0</td>\n",
       "    </tr>\n",
       "  </tbody>\n",
       "</table>\n",
       "</div>"
      ],
      "text/plain": [
       "    item_id      item  price_per_unit\n",
       "0         1    Coffee             2.0\n",
       "1         2      Cake             3.0\n",
       "2         3    Cookie             1.0\n",
       "3         4     Salad             5.0\n",
       "4         5  Smoothie             4.0\n",
       "5         6  Sandwich             4.0\n",
       "6         7     Juice             3.0\n",
       "7         8       Tea             1.5\n",
       "8         9   Unknown             3.0\n",
       "9        10   Unknown             1.5\n",
       "10       11   Unknown             2.0\n",
       "11       12   Unknown             1.0\n",
       "12       13   Unknown             5.0\n",
       "13       14   Unknown             4.0"
      ]
     },
     "execution_count": 23,
     "metadata": {},
     "output_type": "execute_result"
    }
   ],
   "source": [
    "dim_items = data_clean[['item', 'price_per_unit']].drop_duplicates().reset_index(drop=True)\n",
    "dim_items = dim_items.sort_values(\n",
    "    by=['item'],\n",
    "    key=lambda col: col.str.lower().eq('unknown')\n",
    ").reset_index(drop=True)\n",
    "dim_items['item_id'] = range(1, len(dim_items) + 1)\n",
    "\n",
    "dim_items = dim_items[['item_id', 'item', 'price_per_unit']]\n",
    "dim_items"
   ]
  },
  {
   "cell_type": "markdown",
   "id": "15f02dec",
   "metadata": {},
   "source": [
    "### `dim_payment_methods`"
   ]
  },
  {
   "cell_type": "code",
   "execution_count": 24,
   "id": "4a618c90",
   "metadata": {},
   "outputs": [
    {
     "data": {
      "text/html": [
       "<div>\n",
       "<style scoped>\n",
       "    .dataframe tbody tr th:only-of-type {\n",
       "        vertical-align: middle;\n",
       "    }\n",
       "\n",
       "    .dataframe tbody tr th {\n",
       "        vertical-align: top;\n",
       "    }\n",
       "\n",
       "    .dataframe thead th {\n",
       "        text-align: right;\n",
       "    }\n",
       "</style>\n",
       "<table border=\"1\" class=\"dataframe\">\n",
       "  <thead>\n",
       "    <tr style=\"text-align: right;\">\n",
       "      <th></th>\n",
       "      <th>payment_method_id</th>\n",
       "      <th>payment_method</th>\n",
       "    </tr>\n",
       "  </thead>\n",
       "  <tbody>\n",
       "    <tr>\n",
       "      <th>0</th>\n",
       "      <td>1</td>\n",
       "      <td>Credit Card</td>\n",
       "    </tr>\n",
       "    <tr>\n",
       "      <th>1</th>\n",
       "      <td>2</td>\n",
       "      <td>Cash</td>\n",
       "    </tr>\n",
       "    <tr>\n",
       "      <th>2</th>\n",
       "      <td>3</td>\n",
       "      <td>Digital Wallet</td>\n",
       "    </tr>\n",
       "    <tr>\n",
       "      <th>3</th>\n",
       "      <td>4</td>\n",
       "      <td>Unknown</td>\n",
       "    </tr>\n",
       "  </tbody>\n",
       "</table>\n",
       "</div>"
      ],
      "text/plain": [
       "   payment_method_id  payment_method\n",
       "0                  1     Credit Card\n",
       "1                  2            Cash\n",
       "2                  3  Digital Wallet\n",
       "3                  4         Unknown"
      ]
     },
     "execution_count": 24,
     "metadata": {},
     "output_type": "execute_result"
    }
   ],
   "source": [
    "dim_payment_methods = data_clean[['payment_method']].drop_duplicates().reset_index(drop=True)\n",
    "dim_payment_methods = dim_payment_methods.sort_values(\n",
    "    by=['payment_method'],\n",
    "    key=lambda col: col.str.lower().eq('unknown')\n",
    ").reset_index(drop=True)\n",
    "dim_payment_methods['payment_method_id'] = range(1, len(dim_payment_methods) + 1)\n",
    "\n",
    "dim_payment_methods = dim_payment_methods[['payment_method_id', 'payment_method']]\n",
    "dim_payment_methods"
   ]
  },
  {
   "cell_type": "markdown",
   "id": "f26a221c",
   "metadata": {},
   "source": [
    "### `dim_locations`"
   ]
  },
  {
   "cell_type": "code",
   "execution_count": 25,
   "id": "a40a3c61",
   "metadata": {},
   "outputs": [
    {
     "data": {
      "text/html": [
       "<div>\n",
       "<style scoped>\n",
       "    .dataframe tbody tr th:only-of-type {\n",
       "        vertical-align: middle;\n",
       "    }\n",
       "\n",
       "    .dataframe tbody tr th {\n",
       "        vertical-align: top;\n",
       "    }\n",
       "\n",
       "    .dataframe thead th {\n",
       "        text-align: right;\n",
       "    }\n",
       "</style>\n",
       "<table border=\"1\" class=\"dataframe\">\n",
       "  <thead>\n",
       "    <tr style=\"text-align: right;\">\n",
       "      <th></th>\n",
       "      <th>location_id</th>\n",
       "      <th>location</th>\n",
       "    </tr>\n",
       "  </thead>\n",
       "  <tbody>\n",
       "    <tr>\n",
       "      <th>0</th>\n",
       "      <td>1</td>\n",
       "      <td>Takeaway</td>\n",
       "    </tr>\n",
       "    <tr>\n",
       "      <th>1</th>\n",
       "      <td>2</td>\n",
       "      <td>In-store</td>\n",
       "    </tr>\n",
       "    <tr>\n",
       "      <th>2</th>\n",
       "      <td>3</td>\n",
       "      <td>Unknown</td>\n",
       "    </tr>\n",
       "  </tbody>\n",
       "</table>\n",
       "</div>"
      ],
      "text/plain": [
       "   location_id  location\n",
       "0            1  Takeaway\n",
       "1            2  In-store\n",
       "2            3   Unknown"
      ]
     },
     "execution_count": 25,
     "metadata": {},
     "output_type": "execute_result"
    }
   ],
   "source": [
    "dim_locations = data_clean[['location']].drop_duplicates().reset_index(drop=True)\n",
    "dim_locations = dim_locations.sort_values(\n",
    "    by=['location'],\n",
    "    key=lambda col: col.str.lower().eq('unknown')\n",
    ").reset_index(drop=True)\n",
    "dim_locations['location_id'] = range(1, len(dim_locations) + 1)\n",
    "\n",
    "dim_locations = dim_locations[['location_id', 'location']]\n",
    "dim_locations"
   ]
  },
  {
   "cell_type": "markdown",
   "id": "5dfb6fea",
   "metadata": {},
   "source": [
    "### `fact_transactions`"
   ]
  },
  {
   "cell_type": "code",
   "execution_count": 26,
   "id": "f886ba95",
   "metadata": {},
   "outputs": [
    {
     "data": {
      "text/html": [
       "<div>\n",
       "<style scoped>\n",
       "    .dataframe tbody tr th:only-of-type {\n",
       "        vertical-align: middle;\n",
       "    }\n",
       "\n",
       "    .dataframe tbody tr th {\n",
       "        vertical-align: top;\n",
       "    }\n",
       "\n",
       "    .dataframe thead th {\n",
       "        text-align: right;\n",
       "    }\n",
       "</style>\n",
       "<table border=\"1\" class=\"dataframe\">\n",
       "  <thead>\n",
       "    <tr style=\"text-align: right;\">\n",
       "      <th></th>\n",
       "      <th>transaction_id</th>\n",
       "      <th>transaction_date</th>\n",
       "      <th>item_id</th>\n",
       "      <th>payment_method_id</th>\n",
       "      <th>location_id</th>\n",
       "      <th>quantity</th>\n",
       "      <th>total_spent</th>\n",
       "    </tr>\n",
       "  </thead>\n",
       "  <tbody>\n",
       "    <tr>\n",
       "      <th>0</th>\n",
       "      <td>TXN_1961373</td>\n",
       "      <td>2023-09-08</td>\n",
       "      <td>1</td>\n",
       "      <td>1</td>\n",
       "      <td>1</td>\n",
       "      <td>2.0</td>\n",
       "      <td>4.0</td>\n",
       "    </tr>\n",
       "    <tr>\n",
       "      <th>1</th>\n",
       "      <td>TXN_4977031</td>\n",
       "      <td>2023-05-16</td>\n",
       "      <td>2</td>\n",
       "      <td>2</td>\n",
       "      <td>2</td>\n",
       "      <td>4.0</td>\n",
       "      <td>12.0</td>\n",
       "    </tr>\n",
       "    <tr>\n",
       "      <th>2</th>\n",
       "      <td>TXN_4271903</td>\n",
       "      <td>2023-07-19</td>\n",
       "      <td>3</td>\n",
       "      <td>1</td>\n",
       "      <td>2</td>\n",
       "      <td>4.0</td>\n",
       "      <td>4.0</td>\n",
       "    </tr>\n",
       "    <tr>\n",
       "      <th>3</th>\n",
       "      <td>TXN_7034554</td>\n",
       "      <td>2023-04-27</td>\n",
       "      <td>4</td>\n",
       "      <td>4</td>\n",
       "      <td>3</td>\n",
       "      <td>2.0</td>\n",
       "      <td>10.0</td>\n",
       "    </tr>\n",
       "    <tr>\n",
       "      <th>4</th>\n",
       "      <td>TXN_3160411</td>\n",
       "      <td>2023-06-11</td>\n",
       "      <td>1</td>\n",
       "      <td>3</td>\n",
       "      <td>2</td>\n",
       "      <td>2.0</td>\n",
       "      <td>4.0</td>\n",
       "    </tr>\n",
       "    <tr>\n",
       "      <th>...</th>\n",
       "      <td>...</td>\n",
       "      <td>...</td>\n",
       "      <td>...</td>\n",
       "      <td>...</td>\n",
       "      <td>...</td>\n",
       "      <td>...</td>\n",
       "      <td>...</td>\n",
       "    </tr>\n",
       "    <tr>\n",
       "      <th>9509</th>\n",
       "      <td>TXN_7672686</td>\n",
       "      <td>2023-08-30</td>\n",
       "      <td>1</td>\n",
       "      <td>4</td>\n",
       "      <td>3</td>\n",
       "      <td>2.0</td>\n",
       "      <td>4.0</td>\n",
       "    </tr>\n",
       "    <tr>\n",
       "      <th>9510</th>\n",
       "      <td>TXN_9659401</td>\n",
       "      <td>2023-06-02</td>\n",
       "      <td>12</td>\n",
       "      <td>3</td>\n",
       "      <td>3</td>\n",
       "      <td>3.0</td>\n",
       "      <td>3.0</td>\n",
       "    </tr>\n",
       "    <tr>\n",
       "      <th>9511</th>\n",
       "      <td>TXN_5255387</td>\n",
       "      <td>2023-03-02</td>\n",
       "      <td>1</td>\n",
       "      <td>3</td>\n",
       "      <td>3</td>\n",
       "      <td>4.0</td>\n",
       "      <td>8.0</td>\n",
       "    </tr>\n",
       "    <tr>\n",
       "      <th>9512</th>\n",
       "      <td>TXN_7695629</td>\n",
       "      <td>2023-12-02</td>\n",
       "      <td>3</td>\n",
       "      <td>3</td>\n",
       "      <td>3</td>\n",
       "      <td>3.0</td>\n",
       "      <td>3.0</td>\n",
       "    </tr>\n",
       "    <tr>\n",
       "      <th>9513</th>\n",
       "      <td>TXN_6170729</td>\n",
       "      <td>2023-11-07</td>\n",
       "      <td>6</td>\n",
       "      <td>2</td>\n",
       "      <td>2</td>\n",
       "      <td>3.0</td>\n",
       "      <td>12.0</td>\n",
       "    </tr>\n",
       "  </tbody>\n",
       "</table>\n",
       "<p>9514 rows × 7 columns</p>\n",
       "</div>"
      ],
      "text/plain": [
       "     transaction_id transaction_date  item_id  payment_method_id  location_id  \\\n",
       "0       TXN_1961373       2023-09-08        1                  1            1   \n",
       "1       TXN_4977031       2023-05-16        2                  2            2   \n",
       "2       TXN_4271903       2023-07-19        3                  1            2   \n",
       "3       TXN_7034554       2023-04-27        4                  4            3   \n",
       "4       TXN_3160411       2023-06-11        1                  3            2   \n",
       "...             ...              ...      ...                ...          ...   \n",
       "9509    TXN_7672686       2023-08-30        1                  4            3   \n",
       "9510    TXN_9659401       2023-06-02       12                  3            3   \n",
       "9511    TXN_5255387       2023-03-02        1                  3            3   \n",
       "9512    TXN_7695629       2023-12-02        3                  3            3   \n",
       "9513    TXN_6170729       2023-11-07        6                  2            2   \n",
       "\n",
       "      quantity  total_spent  \n",
       "0          2.0          4.0  \n",
       "1          4.0         12.0  \n",
       "2          4.0          4.0  \n",
       "3          2.0         10.0  \n",
       "4          2.0          4.0  \n",
       "...        ...          ...  \n",
       "9509       2.0          4.0  \n",
       "9510       3.0          3.0  \n",
       "9511       4.0          8.0  \n",
       "9512       3.0          3.0  \n",
       "9513       3.0         12.0  \n",
       "\n",
       "[9514 rows x 7 columns]"
      ]
     },
     "execution_count": 26,
     "metadata": {},
     "output_type": "execute_result"
    }
   ],
   "source": [
    "fact_transactions = data_clean.merge(dim_items, on=['item', 'price_per_unit'], how='left') \\\n",
    "    .merge(dim_payment_methods, on='payment_method', how='left') \\\n",
    "    .merge(dim_locations, on='location', how='left')\n",
    "\n",
    "fact_transactions = fact_transactions[[\n",
    "    'transaction_id',\n",
    "    'transaction_date',\n",
    "    'item_id',\n",
    "    'payment_method_id',\n",
    "    'location_id',\n",
    "    'quantity',\n",
    "    'total_spent'\n",
    "]]\n",
    "\n",
    "fact_transactions"
   ]
  },
  {
   "cell_type": "markdown",
   "id": "bd23c3c1",
   "metadata": {},
   "source": [
    "# Load"
   ]
  },
  {
   "cell_type": "markdown",
   "id": "3eb264be",
   "metadata": {},
   "source": [
    "### Data Reject"
   ]
  },
  {
   "cell_type": "code",
   "execution_count": 27,
   "id": "7d0b4eb1",
   "metadata": {},
   "outputs": [],
   "source": [
    "data_reject.to_csv(f'../target/reject/data_rejected_{timestamp}.csv', index=False)"
   ]
  },
  {
   "cell_type": "markdown",
   "id": "1a7ce41c",
   "metadata": {},
   "source": [
    "### Data Accepted"
   ]
  },
  {
   "cell_type": "code",
   "execution_count": 28,
   "id": "ed0378e2",
   "metadata": {},
   "outputs": [],
   "source": [
    "dim_items.to_csv(f'../target/accepted/dim_items_{timestamp}.csv', index=False)\n",
    "dim_payment_methods.to_csv(f'../target/accepted/dim_payment_methods_{timestamp}.csv', index=False)\n",
    "dim_locations.to_csv(f'../target/accepted/dim_locations_{timestamp}.csv', index=False)\n",
    "fact_transactions.to_csv(f'../target/accepted/fact_transactions_{timestamp}.csv', index=False)"
   ]
  }
 ],
 "metadata": {
  "kernelspec": {
   "display_name": "venv",
   "language": "python",
   "name": "python3"
  },
  "language_info": {
   "codemirror_mode": {
    "name": "ipython",
    "version": 3
   },
   "file_extension": ".py",
   "mimetype": "text/x-python",
   "name": "python",
   "nbconvert_exporter": "python",
   "pygments_lexer": "ipython3",
   "version": "3.11.9"
  }
 },
 "nbformat": 4,
 "nbformat_minor": 5
}
